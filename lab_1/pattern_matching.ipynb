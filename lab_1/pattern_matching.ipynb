{
 "cells": [
  {
   "cell_type": "markdown",
   "metadata": {},
   "source": [
    "# Aga Patro - lab 1"
   ]
  },
  {
   "attachments": {},
   "cell_type": "markdown",
   "metadata": {},
   "source": [
    "## Zadanie 1. Implementacje algorytmów"
   ]
  },
  {
   "attachments": {},
   "cell_type": "markdown",
   "metadata": {},
   "source": [
    "### 1.1 Algorytm naiwny"
   ]
  },
  {
   "cell_type": "code",
   "execution_count": 155,
   "metadata": {},
   "outputs": [],
   "source": [
    "def naive_string_matching(text, pattern):\n",
    "    result = 0\n",
    "    \n",
    "    for s in range(len(text) - len(pattern) + 1):\n",
    "        if pattern == text[s : s + len(pattern)]:\n",
    "            result += 1\n",
    "\n",
    "    return result"
   ]
  },
  {
   "cell_type": "code",
   "execution_count": 156,
   "metadata": {},
   "outputs": [
    {
     "data": {
      "text/plain": [
       "3"
      ]
     },
     "execution_count": 156,
     "metadata": {},
     "output_type": "execute_result"
    }
   ],
   "source": [
    "naive_string_matching(text=\"agaaagagaa\", pattern=\"aga\")"
   ]
  },
  {
   "attachments": {},
   "cell_type": "markdown",
   "metadata": {},
   "source": [
    "### 1.2 Automay skończony"
   ]
  },
  {
   "cell_type": "code",
   "execution_count": 157,
   "metadata": {},
   "outputs": [],
   "source": [
    "def transition(pattern):\n",
    "    splitted = list(pattern)\n",
    "    characters = set(pattern)\n",
    "    \n",
    "    result = []\n",
    "    for q in range(len(pattern) + 1):\n",
    "        result.append({})\n",
    "        for a in characters:\n",
    "            k = min(len(pattern), q+1)\n",
    "            suffix = pattern[:q] + a\n",
    "            while pattern[:k] != \"\" and pattern[:k] != suffix[q - k + 1:]:\n",
    "                k -= 1\n",
    "            result[q][a] = k\n",
    "    return result\n",
    "\n",
    "def finite_automaton_string_matching(text, delta):\n",
    "    q = 0\n",
    "    result = []\n",
    "\n",
    "    for s in range(0, len(text)):\n",
    "        if text[s] in delta[q]:\n",
    "            q = delta[q][text[s]]\n",
    "            if q == len(delta) - 1:\n",
    "                result.append(s + 1 - q)\n",
    "        else:\n",
    "            q = 0\n",
    "    \n",
    "    return len(result)"
   ]
  },
  {
   "cell_type": "code",
   "execution_count": 158,
   "metadata": {},
   "outputs": [
    {
     "data": {
      "text/plain": [
       "3"
      ]
     },
     "execution_count": 158,
     "metadata": {},
     "output_type": "execute_result"
    }
   ],
   "source": [
    "finite_automaton_string_matching(text=\"agaaagagaa\", delta=transition(\"aga\"))"
   ]
  },
  {
   "attachments": {},
   "cell_type": "markdown",
   "metadata": {},
   "source": [
    "### 1.3 Algorytm Knuth-Morris-Pratt'a"
   ]
  },
  {
   "cell_type": "code",
   "execution_count": 159,
   "metadata": {},
   "outputs": [],
   "source": [
    "def prefix_function(pattern):\n",
    "    lps = [0] * len(pattern)\n",
    "    l = 0\n",
    "    i = 1\n",
    "\n",
    "    while i < len(pattern):\n",
    "        while l > 0 and pattern[i] != pattern[l]:\n",
    "            l -= 1\n",
    "        \n",
    "        if pattern[i] == pattern[l]:\n",
    "            l += 1\n",
    "            \n",
    "        lps[i] = l\n",
    "        i += 1\n",
    "    \n",
    "    return lps\n",
    "\n",
    "def kmp_string_matching(text, pattern, lps):\n",
    "    result = []\n",
    "    i = 0\n",
    "    j = 0\n",
    "\n",
    "    while i < len(text):\n",
    "        if text[i] != pattern[j]:\n",
    "            if j > 0:\n",
    "                j = lps[j-1]\n",
    "            else:\n",
    "                i += 1\n",
    "        else:\n",
    "            i, j = i+1, j+1\n",
    "            if j == len(pattern):\n",
    "                result.append(i-j)\n",
    "                j = lps[j-1]\n",
    "    \n",
    "    return len(result)\n"
   ]
  },
  {
   "cell_type": "code",
   "execution_count": 160,
   "metadata": {},
   "outputs": [
    {
     "data": {
      "text/plain": [
       "3"
      ]
     },
     "execution_count": 160,
     "metadata": {},
     "output_type": "execute_result"
    }
   ],
   "source": [
    "kmp_string_matching(text=\"agaaagagaa\", pattern=\"aga\", lps=prefix_function(\"aga\"))"
   ]
  },
  {
   "attachments": {},
   "cell_type": "markdown",
   "metadata": {},
   "source": [
    "## Zadanie 2. Pomiar czasu "
   ]
  },
  {
   "attachments": {},
   "cell_type": "markdown",
   "metadata": {},
   "source": [
    "### 2.1 Funkcje mierzące czas wykonywania poszczególnych algorytmów"
   ]
  },
  {
   "cell_type": "code",
   "execution_count": 161,
   "metadata": {},
   "outputs": [],
   "source": [
    "from timeit import default_timer as timer\n",
    "\n",
    "def naive_measure_time(text, pattern):\n",
    "    start = timer()\n",
    "    result = naive_string_matching(text, pattern)\n",
    "    end = timer()\n",
    "\n",
    "    return end-start\n",
    "\n",
    "def fa_measure_time(text, pattern):\n",
    "    start = timer()\n",
    "    delta = transition(pattern)\n",
    "    processed = timer()\n",
    "    result = finite_automaton_string_matching(text, delta)\n",
    "    end = timer()\n",
    "\n",
    "    return processed-start, end-processed, end-start\n",
    "\n",
    "def kmp_measure_time(text, pattern):\n",
    "    start = timer()\n",
    "    pi = prefix_function(pattern)\n",
    "    processed = timer()\n",
    "    result = kmp_string_matching(text, pattern, pi)\n",
    "    end = timer()\n",
    "\n",
    "    return processed-start, end-processed, end-start\n",
    "    \n",
    "    "
   ]
  },
  {
   "attachments": {},
   "cell_type": "markdown",
   "metadata": {},
   "source": [
    "## Zadanie 3. Znalezienie wzorców \"pan\" oraz \"pani\" w załączonym pliku dla każdego z algorytmów"
   ]
  },
  {
   "attachments": {},
   "cell_type": "markdown",
   "metadata": {},
   "source": [
    "### 3.1 \"pan\""
   ]
  },
  {
   "cell_type": "code",
   "execution_count": 162,
   "metadata": {},
   "outputs": [
    {
     "name": "stdout",
     "output_type": "stream",
     "text": [
      "Algorytm naiwny znalazł: 401 dopasowań\n",
      "Skończony automat znalazł: 401 dopasowań\n",
      "Algorytm KMP znalazł: 401 dopasowań\n"
     ]
    }
   ],
   "source": [
    "file = open(\"pan-tadeusz.txt\")\n",
    "text = file.read().replace(\"\\n\", \" \")\n",
    "pattern = \"pan\"\n",
    "\n",
    "print(f\"Algorytm naiwny znalazł: {naive_string_matching(text, pattern)} dopasowań\")\n",
    "print(f\"Skończony automat znalazł: {finite_automaton_string_matching(text, transition(pattern))} dopasowań\")\n",
    "print(f\"Algorytm KMP znalazł: {kmp_string_matching(text, pattern, prefix_function(pattern))} dopasowań\")"
   ]
  },
  {
   "attachments": {},
   "cell_type": "markdown",
   "metadata": {},
   "source": [
    "### 3.2 \"pani\""
   ]
  },
  {
   "cell_type": "code",
   "execution_count": 163,
   "metadata": {},
   "outputs": [
    {
     "name": "stdout",
     "output_type": "stream",
     "text": [
      "Algorytm naiwny znalazł: 100 dopasowań\n",
      "Skończony automat znalazł: 100 dopasowań\n",
      "Algorytm KMP znalazł: 100 dopasowań\n"
     ]
    }
   ],
   "source": [
    "file = open(\"pan-tadeusz.txt\")\n",
    "text = file.read().replace(\"\\n\", \" \")\n",
    "pattern = \"pani\"\n",
    "\n",
    "print(f\"Algorytm naiwny znalazł: {naive_string_matching(text, pattern)} dopasowań\")\n",
    "print(f\"Skończony automat znalazł: {finite_automaton_string_matching(text, transition(pattern))} dopasowań\")\n",
    "print(f\"Algorytm KMP znalazł: {kmp_string_matching(text, pattern, prefix_function(pattern))} dopasowań\")"
   ]
  },
  {
   "attachments": {},
   "cell_type": "markdown",
   "metadata": {},
   "source": [
    "Jak widać zarówno dla wzorca \"pan\" jak i \"pani, wszytskie 3 algorytmy znajdują taką samą ilość dopasowań."
   ]
  },
  {
   "attachments": {},
   "cell_type": "markdown",
   "metadata": {},
   "source": [
    "## Zadanie 4. Porównanie czasów"
   ]
  },
  {
   "attachments": {},
   "cell_type": "markdown",
   "metadata": {},
   "source": [
    "### 4.1 Funkcje potrzebne do kilkukrotnego mierzenia czasu"
   ]
  },
  {
   "cell_type": "code",
   "execution_count": 164,
   "metadata": {},
   "outputs": [],
   "source": [
    "import math\n",
    "\n",
    "\n",
    "def count_time_native(test_num, text, pattern):\n",
    "    min_time = math.inf\n",
    "    max_time = -math.inf\n",
    "    average_time = 0\n",
    "\n",
    "    for i in range(test_num):\n",
    "        time = naive_measure_time(text, pattern)\n",
    "        min_time = min(min_time, time)\n",
    "        max_time = max(max_time, time)\n",
    "        average_time += time\n",
    "\n",
    "    return min_time, max_time, average_time/test_num\n",
    "\n",
    "\n",
    "def count_time_fa(test_num, text, pattern):\n",
    "    min_time = math.inf\n",
    "    max_time = -math.inf\n",
    "    average_time = 0\n",
    "    pro_min_time = math.inf\n",
    "    pro_max_time = -math.inf\n",
    "    pro_average_time = 0\n",
    "    find_min_time = math.inf\n",
    "    find_max_time = -math.inf\n",
    "    find_average_time = 0\n",
    "\n",
    "    for i in range(test_num):\n",
    "        process_time, finding_time, time = fa_measure_time(text, pattern)\n",
    "        min_time = min(min_time, time)\n",
    "        max_time = max(max_time, time)\n",
    "        average_time += time\n",
    "        pro_min_time = min(pro_min_time, process_time)\n",
    "        pro_max_time = max(pro_max_time, process_time)\n",
    "        pro_average_time += process_time\n",
    "        find_min_time = min(find_min_time, finding_time)\n",
    "        find_max_time = max(find_max_time, finding_time)\n",
    "        find_average_time += finding_time\n",
    "\n",
    "    return min_time, max_time, average_time/test_num, pro_min_time, pro_max_time, pro_average_time/test_num, find_min_time, find_max_time, find_average_time/test_num\n",
    "\n",
    "\n",
    "def count_time_kmp(test_num, text, pattern):\n",
    "    min_time = math.inf\n",
    "    max_time = -math.inf\n",
    "    average_time = 0\n",
    "    pro_min_time = math.inf\n",
    "    pro_max_time = -math.inf\n",
    "    pro_average_time = 0\n",
    "    find_min_time = math.inf\n",
    "    find_max_time = -math.inf\n",
    "    find_average_time = 0\n",
    "\n",
    "    for i in range(test_num):\n",
    "        process_time, finding_time, time = kmp_measure_time(text, pattern)\n",
    "        min_time = min(min_time, time)\n",
    "        max_time = max(max_time, time)\n",
    "        average_time += time\n",
    "        pro_min_time = min(pro_min_time, process_time)\n",
    "        pro_max_time = max(pro_max_time, process_time)\n",
    "        pro_average_time += process_time\n",
    "        find_min_time = min(find_min_time, finding_time)\n",
    "        find_max_time = max(find_max_time, finding_time)\n",
    "        find_average_time += finding_time\n",
    "\n",
    "    return min_time, max_time, average_time/test_num, pro_min_time, pro_max_time, pro_average_time/test_num, find_min_time, find_max_time, find_average_time/test_num"
   ]
  },
  {
   "attachments": {},
   "cell_type": "markdown",
   "metadata": {},
   "source": [
    "### 4.2 Wyniki pomiarów"
   ]
  },
  {
   "attachments": {},
   "cell_type": "markdown",
   "metadata": {},
   "source": [
    "#### Pomiar całkowitego czasu wykonywania - \"pan\""
   ]
  },
  {
   "cell_type": "code",
   "execution_count": 165,
   "metadata": {},
   "outputs": [
    {
     "name": "stdout",
     "output_type": "stream",
     "text": [
      "  Algorytm  Max czas  Min czas  Średni czas\n",
      "0   Naiwny  0.000006  0.000003     0.000003\n",
      "1       FA  0.000019  0.000012     0.000014\n",
      "2      KMP  0.000009  0.000005     0.000006\n"
     ]
    },
    {
     "name": "stderr",
     "output_type": "stream",
     "text": [
      "/tmp/ipykernel_6005/299407393.py:23: FutureWarning: In a future version of pandas, a length 1 tuple will be returned when iterating over a groupby with a grouper equal to a list of length 1. Don't supply a list with a single grouper to avoid this warning.\n",
      "  for key, grp in for_plot.groupby(['Algorytm']):\n"
     ]
    },
    {
     "data": {
      "image/png": "[encoded data removed]",
      "text/plain": [
       "<Figure size 640x480 with 1 Axes>"
      ]
     },
     "metadata": {},
     "output_type": "display_data"
    }
   ],
   "source": [
    "import pandas as pd\n",
    "import matplotlib.pyplot as plt\n",
    "\n",
    "text = \"pan-tadeusz.txt\"\n",
    "pattern = \"pan\"\n",
    "\n",
    "naive = count_time_native(6, text, pattern)\n",
    "fa = count_time_fa(6, text, pattern)\n",
    "kmp = count_time_kmp(6, text, pattern)\n",
    "\n",
    "table = pd.DataFrame({'Algorytm' : [\"Naiwny\", \"FA\", \"KMP\"],\n",
    "              'Max czas' : [naive[1], fa[1], kmp[1]],\n",
    "              'Min czas': [naive[0], fa[0], kmp[0]],\n",
    "              'Średni czas' : [naive[2], fa[2], kmp[2]]})\n",
    "\n",
    "\n",
    "colors = {'Naiwny' : 'orchid', 'FA' : 'darkmagenta', 'KMP' : 'deeppink'}\n",
    "for_plot = pd.DataFrame({'Algorytm' : [\"Naiwny\", \"Naiwny\", \"Naiwny\", \"FA\", \"FA\", \"FA\", \"KMP\", \"KMP\", \"KMP\"],\n",
    "                         'Rodzaj czasu' : ['Max czas', 'Min czas', 'Średni czas', 'Max czas', 'Min czas', 'Średni czas', 'Max czas', 'Min czas', 'Średni czas'],\n",
    "                         'Wynik' : [naive[1], naive[0], naive[2], fa[1], fa[0], fa[2], kmp[1], kmp[0], kmp[2]]})\n",
    "\n",
    "fig, ax = plt.subplots()\n",
    "for key, grp in for_plot.groupby(['Algorytm']):\n",
    "    ax = grp.plot(ax=ax, kind='scatter', x='Rodzaj czasu', y='Wynik', label=key, color=colors[key])\n",
    "    \n",
    "plt.show\n",
    "print(table)"
   ]
  },
  {
   "attachments": {},
   "cell_type": "markdown",
   "metadata": {},
   "source": [
    "#### Pomiar całkowitego czasu wykonywania - \"pani\""
   ]
  },
  {
   "cell_type": "code",
   "execution_count": 166,
   "metadata": {},
   "outputs": [
    {
     "name": "stderr",
     "output_type": "stream",
     "text": [
      "/tmp/ipykernel_6005/1412765242.py:21: FutureWarning: In a future version of pandas, a length 1 tuple will be returned when iterating over a groupby with a grouper equal to a list of length 1. Don't supply a list with a single grouper to avoid this warning.\n",
      "  for key, grp in for_plot.groupby(['Algorytm']):\n"
     ]
    },
    {
     "name": "stdout",
     "output_type": "stream",
     "text": [
      "  Algorytm  Max czas  Min czas  Średni czas\n",
      "0   Naiwny  0.000005  0.000002     0.000003\n",
      "1       FA  0.000027  0.000020     0.000022\n",
      "2      KMP  0.000008  0.000005     0.000006\n"
     ]
    },
    {
     "data": {
      "text/plain": [
       "<function matplotlib.pyplot.show(close=None, block=None)>"
      ]
     },
     "execution_count": 166,
     "metadata": {},
     "output_type": "execute_result"
    },
    {
     "data": {
      "image/png": "[encoded data removed]",
      "text/plain": [
       "<Figure size 640x480 with 1 Axes>"
      ]
     },
     "metadata": {},
     "output_type": "display_data"
    }
   ],
   "source": [
    "text = \"pan-tadeusz.txt\"\n",
    "pattern = \"pani\"\n",
    "\n",
    "naive = count_time_native(6, text, pattern)\n",
    "fa = count_time_fa(6, text, pattern)\n",
    "kmp = count_time_kmp(6, text, pattern)\n",
    "\n",
    "table = pd.DataFrame({'Algorytm' : [\"Naiwny\", \"FA\", \"KMP\"],\n",
    "              'Max czas' : [naive[1], fa[1], kmp[1]],\n",
    "              'Min czas': [naive[0], fa[0], kmp[0]],\n",
    "              'Średni czas' : [naive[2], fa[2], kmp[2]]})\n",
    "\n",
    "print(table)\n",
    "\n",
    "colors = {'Naiwny' : 'orchid', 'FA' : 'darkmagenta', 'KMP' : 'deeppink'}\n",
    "for_plot = pd.DataFrame({'Algorytm' : [\"Naiwny\", \"Naiwny\", \"Naiwny\", \"FA\", \"FA\", \"FA\", \"KMP\", \"KMP\", \"KMP\"],\n",
    "                         'Rodzaj czasu' : ['Max czas', 'Min czas', 'Średni czas', 'Max czas', 'Min czas', 'Średni czas', 'Max czas', 'Min czas', 'Średni czas'],\n",
    "                         'Wynik' : [naive[1], naive[0], naive[2], fa[1], fa[0], fa[2], kmp[1], kmp[0], kmp[2]]})\n",
    "\n",
    "fig, ax = plt.subplots()\n",
    "for key, grp in for_plot.groupby(['Algorytm']):\n",
    "    ax = grp.plot(ax=ax, kind='scatter', x='Rodzaj czasu', y='Wynik', label=key, color=colors[key])\n",
    "plt.show"
   ]
  },
  {
   "attachments": {},
   "cell_type": "markdown",
   "metadata": {},
   "source": [
    "Dla pomiarów całkowitego czasu, dla obu wzrorców, algorytm naiwny wypada najlepiej, natomiast najgorzej wypada automat skończony."
   ]
  },
  {
   "attachments": {},
   "cell_type": "markdown",
   "metadata": {},
   "source": [
    "#### Pomiar czasu pre-processingu dla FA oraz KMP - \"pan\""
   ]
  },
  {
   "cell_type": "code",
   "execution_count": 167,
   "metadata": {},
   "outputs": [
    {
     "name": "stdout",
     "output_type": "stream",
     "text": [
      "  Algorytm  Max czas  Min czas  Średni czas\n",
      "0       FA  0.000017  0.000009     0.000011\n",
      "1      KMP  0.000004  0.000001     0.000002\n"
     ]
    },
    {
     "name": "stderr",
     "output_type": "stream",
     "text": [
      "/tmp/ipykernel_6005/1695916552.py:20: FutureWarning: In a future version of pandas, a length 1 tuple will be returned when iterating over a groupby with a grouper equal to a list of length 1. Don't supply a list with a single grouper to avoid this warning.\n",
      "  for key, grp in for_plot.groupby(['Algorytm']):\n"
     ]
    },
    {
     "data": {
      "text/plain": [
       "<function matplotlib.pyplot.show(close=None, block=None)>"
      ]
     },
     "execution_count": 167,
     "metadata": {},
     "output_type": "execute_result"
    },
    {
     "data": {
      "image/png": "[encoded data removed]",
      "text/plain": [
       "<Figure size 640x480 with 1 Axes>"
      ]
     },
     "metadata": {},
     "output_type": "display_data"
    }
   ],
   "source": [
    "text = \"pan-tadeusz.txt\"\n",
    "pattern = \"pan\"\n",
    "\n",
    "fa = count_time_fa(6, text, pattern)\n",
    "kmp = count_time_kmp(6, text, pattern)\n",
    "\n",
    "table = pd.DataFrame({'Algorytm' : [\"FA\", \"KMP\"],\n",
    "              'Max czas' : [fa[4], kmp[4]],\n",
    "              'Min czas': [fa[3], kmp[3]],\n",
    "              'Średni czas' : [fa[5], kmp[5]]})\n",
    "\n",
    "print(table)\n",
    "\n",
    "colors = {'FA' : 'darkmagenta', 'KMP' : 'deeppink'}\n",
    "for_plot = pd.DataFrame({'Algorytm' : [\"FA\", \"FA\", \"FA\", \"KMP\", \"KMP\", \"KMP\"],\n",
    "                         'Rodzaj czasu' : ['Max czas', 'Min czas', 'Średni czas', 'Max czas', 'Min czas', 'Średni czas'],\n",
    "                         'Wynik' : [fa[4], fa[3], fa[5], kmp[4], kmp[3], kmp[5]]})\n",
    "\n",
    "fig, ax = plt.subplots()\n",
    "for key, grp in for_plot.groupby(['Algorytm']):\n",
    "    ax = grp.plot(ax=ax, kind='scatter', x='Rodzaj czasu', y='Wynik', label=key, color=colors[key])\n",
    "plt.show"
   ]
  },
  {
   "attachments": {},
   "cell_type": "markdown",
   "metadata": {},
   "source": [
    "#### Pomiar czasu pre-processingu dla FA oraz KMP - \"pani\""
   ]
  },
  {
   "cell_type": "code",
   "execution_count": 168,
   "metadata": {},
   "outputs": [
    {
     "name": "stdout",
     "output_type": "stream",
     "text": [
      "  Algorytm  Max czas  Min czas  Średni czas\n",
      "0       FA  0.000035  0.000017     0.000020\n",
      "1      KMP  0.000004  0.000001     0.000002\n"
     ]
    },
    {
     "name": "stderr",
     "output_type": "stream",
     "text": [
      "/tmp/ipykernel_6005/1317676157.py:20: FutureWarning: In a future version of pandas, a length 1 tuple will be returned when iterating over a groupby with a grouper equal to a list of length 1. Don't supply a list with a single grouper to avoid this warning.\n",
      "  for key, grp in for_plot.groupby(['Algorytm']):\n"
     ]
    },
    {
     "data": {
      "text/plain": [
       "<function matplotlib.pyplot.show(close=None, block=None)>"
      ]
     },
     "execution_count": 168,
     "metadata": {},
     "output_type": "execute_result"
    },
    {
     "data": {
      "image/png": "[encoded data removed]",
      "text/plain": [
       "<Figure size 640x480 with 1 Axes>"
      ]
     },
     "metadata": {},
     "output_type": "display_data"
    }
   ],
   "source": [
    "text = \"pan-tadeusz.txt\"\n",
    "pattern = \"pani\"\n",
    "\n",
    "fa = count_time_fa(6, text, pattern)\n",
    "kmp = count_time_kmp(6, text, pattern)\n",
    "\n",
    "table = pd.DataFrame({'Algorytm' : [\"FA\", \"KMP\"],\n",
    "              'Max czas' : [fa[4], kmp[4]],\n",
    "              'Min czas': [fa[3], kmp[3]],\n",
    "              'Średni czas' : [fa[5], kmp[5]]})\n",
    "\n",
    "print(table)\n",
    "\n",
    "colors = {'FA' : 'darkmagenta', 'KMP' : 'deeppink'}\n",
    "for_plot = pd.DataFrame({'Algorytm' : [\"FA\", \"FA\", \"FA\", \"KMP\", \"KMP\", \"KMP\"],\n",
    "                         'Rodzaj czasu' : ['Max czas', 'Min czas', 'Średni czas', 'Max czas', 'Min czas', 'Średni czas'],\n",
    "                         'Wynik' : [fa[4], fa[3], fa[5], kmp[4], kmp[3], kmp[5]]})\n",
    "\n",
    "fig, ax = plt.subplots()\n",
    "for key, grp in for_plot.groupby(['Algorytm']):\n",
    "    ax = grp.plot(ax=ax, kind='scatter', x='Rodzaj czasu', y='Wynik', label=key, color=colors[key])\n",
    "plt.show"
   ]
  },
  {
   "attachments": {},
   "cell_type": "markdown",
   "metadata": {},
   "source": [
    "Dla pre-processingu algorytm KPM wypada lepiej"
   ]
  },
  {
   "attachments": {},
   "cell_type": "markdown",
   "metadata": {},
   "source": [
    "#### Pomiar czasu dopasowania dla FA oraz KMP - \"pan\""
   ]
  },
  {
   "cell_type": "code",
   "execution_count": 169,
   "metadata": {},
   "outputs": [
    {
     "name": "stdout",
     "output_type": "stream",
     "text": [
      "  Algorytm  Max czas  Min czas  Średni czas\n",
      "0       FA  0.000005  0.000003     0.000003\n",
      "1      KMP  0.000005  0.000003     0.000004\n"
     ]
    },
    {
     "name": "stderr",
     "output_type": "stream",
     "text": [
      "/tmp/ipykernel_6005/339527131.py:20: FutureWarning: In a future version of pandas, a length 1 tuple will be returned when iterating over a groupby with a grouper equal to a list of length 1. Don't supply a list with a single grouper to avoid this warning.\n",
      "  for key, grp in for_plot.groupby(['Algorytm']):\n"
     ]
    },
    {
     "data": {
      "text/plain": [
       "<function matplotlib.pyplot.show(close=None, block=None)>"
      ]
     },
     "execution_count": 169,
     "metadata": {},
     "output_type": "execute_result"
    },
    {
     "data": {
      "image/png": "[encoded data removed]",
      "text/plain": [
       "<Figure size 640x480 with 1 Axes>"
      ]
     },
     "metadata": {},
     "output_type": "display_data"
    }
   ],
   "source": [
    "text = \"pan-tadeusz.txt\"\n",
    "pattern = \"pan\"\n",
    "\n",
    "fa = count_time_fa(6, text, pattern)\n",
    "kmp = count_time_kmp(6, text, pattern)\n",
    "\n",
    "table = pd.DataFrame({'Algorytm' : [\"FA\", \"KMP\"],\n",
    "              'Max czas' : [fa[7], kmp[7]],\n",
    "              'Min czas': [fa[6], kmp[6]],\n",
    "              'Średni czas' : [fa[8], kmp[8]]})\n",
    "\n",
    "print(table)\n",
    "\n",
    "colors = {'FA' : 'darkmagenta', 'KMP' : 'deeppink'}\n",
    "for_plot = pd.DataFrame({'Algorytm' : [\"FA\", \"FA\", \"FA\", \"KMP\", \"KMP\", \"KMP\"],\n",
    "                         'Rodzaj czasu' : ['Max czas', 'Min czas', 'Średni czas', 'Max czas', 'Min czas', 'Średni czas'],\n",
    "                         'Wynik' : [fa[7], fa[6], fa[8], kmp[7], kmp[6], kmp[8]]})\n",
    "\n",
    "fig, ax = plt.subplots()\n",
    "for key, grp in for_plot.groupby(['Algorytm']):\n",
    "    ax = grp.plot(ax=ax, kind='scatter', x='Rodzaj czasu', y='Wynik', label=key, color=colors[key])\n",
    "plt.show"
   ]
  },
  {
   "attachments": {},
   "cell_type": "markdown",
   "metadata": {},
   "source": [
    "#### Pomiar czasu dopasowania dla FA oraz KMP - \"pani\""
   ]
  },
  {
   "cell_type": "code",
   "execution_count": 170,
   "metadata": {},
   "outputs": [
    {
     "name": "stdout",
     "output_type": "stream",
     "text": [
      "  Algorytm  Max czas  Min czas  Średni czas\n",
      "0       FA  0.000004  0.000001     0.000003\n",
      "1      KMP  0.000004  0.000002     0.000003\n"
     ]
    },
    {
     "name": "stderr",
     "output_type": "stream",
     "text": [
      "/tmp/ipykernel_6005/522207879.py:20: FutureWarning: In a future version of pandas, a length 1 tuple will be returned when iterating over a groupby with a grouper equal to a list of length 1. Don't supply a list with a single grouper to avoid this warning.\n",
      "  for key, grp in for_plot.groupby(['Algorytm']):\n"
     ]
    },
    {
     "data": {
      "text/plain": [
       "<function matplotlib.pyplot.show(close=None, block=None)>"
      ]
     },
     "execution_count": 170,
     "metadata": {},
     "output_type": "execute_result"
    },
    {
     "data": {
      "image/png": "[encoded data removed]",
      "text/plain": [
       "<Figure size 640x480 with 1 Axes>"
      ]
     },
     "metadata": {},
     "output_type": "display_data"
    }
   ],
   "source": [
    "text = \"pan-tadeusz.txt\"\n",
    "pattern = \"pani\"\n",
    "\n",
    "fa = count_time_fa(6, text, pattern)\n",
    "kmp = count_time_kmp(6, text, pattern)\n",
    "\n",
    "table = pd.DataFrame({'Algorytm' : [\"FA\", \"KMP\"],\n",
    "              'Max czas' : [fa[7], kmp[7]],\n",
    "              'Min czas': [fa[6], kmp[6]],\n",
    "              'Średni czas' : [fa[8], kmp[8]]})\n",
    "\n",
    "print(table)\n",
    "\n",
    "colors = {'FA' : 'darkmagenta', 'KMP' : 'deeppink'}\n",
    "for_plot = pd.DataFrame({'Algorytm' : [\"FA\", \"FA\", \"FA\", \"KMP\", \"KMP\", \"KMP\"],\n",
    "                         'Rodzaj czasu' : ['Max czas', 'Min czas', 'Średni czas', 'Max czas', 'Min czas', 'Średni czas'],\n",
    "                         'Wynik' : [fa[7], fa[6], fa[8], kmp[7], kmp[6], kmp[8]]})\n",
    "\n",
    "fig, ax = plt.subplots()\n",
    "for key, grp in for_plot.groupby(['Algorytm']):\n",
    "    ax = grp.plot(ax=ax, kind='scatter', x='Rodzaj czasu', y='Wynik', label=key, color=colors[key])\n",
    "plt.show"
   ]
  },
  {
   "attachments": {},
   "cell_type": "markdown",
   "metadata": {},
   "source": [
    "Dla dopasowywania po processingu automat skończony wypada lepiej"
   ]
  },
  {
   "attachments": {},
   "cell_type": "markdown",
   "metadata": {},
   "source": [
    "## Zadanie 5. Propozycja innego wzorca"
   ]
  },
  {
   "cell_type": "code",
   "execution_count": 171,
   "metadata": {},
   "outputs": [
    {
     "name": "stdout",
     "output_type": "stream",
     "text": [
      "==== Algorytm naiwny ====\n",
      "Czas działania: 3.840999852400273e-06\n",
      "\n",
      "==== Automat skończony ====\n",
      "Czas działania: 1.676199826761149e-05\n",
      "\n",
      "==== Algorytm KMP ====\n",
      "Czas działania: 1.9066999811911955e-05\n",
      "\n"
     ]
    }
   ],
   "source": [
    "text = 'hsjieibsdhcvsahjbuebfvhadbflvihadbfnlvhdbfihvbadfhjvbldikhvdfvdfbrfbdxbgldxhfdblkjsdjasb'\n",
    "pattern = \"x\"*213700\n",
    "\n",
    "naive = naive_measure_time(text, pattern)\n",
    "fa = fa_measure_time(text, pattern)\n",
    "kmp = kmp_measure_time(text, pattern)\n",
    "\n",
    "print(\"==== Algorytm naiwny ====\")\n",
    "print(f\"Czas działania: {naive}\\n\")\n",
    "print(\"==== Automat skończony ====\")\n",
    "print(f\"Czas działania: {fa[1]}\\n\")\n",
    "print(\"==== Algorytm KMP ====\")\n",
    "print(f\"Czas działania: {kmp[1]}\\n\")"
   ]
  },
  {
   "cell_type": "markdown",
   "metadata": {},
   "source": [
    "## Zadanie 6. Wnioski"
   ]
  },
  {
   "attachments": {},
   "cell_type": "markdown",
   "metadata": {},
   "source": [
    "Z jakiegoś nieznanego mi powodu, algorytm naiwny wypada lepiej niż pozostałe algorytmy, więc trudno postawić mi jakiekolwiek wnioski, podświadomie wiedząc, że powinien on wypaść najgorzej :("
   ]
  }
 ],
 "metadata": {
  "kernelspec": {
   "display_name": "Python 3",
   "language": "python",
   "name": "python3"
  },
  "language_info": {
   "codemirror_mode": {
    "name": "ipython",
    "version": 3
   },
   "file_extension": ".py",
   "mimetype": "text/x-python",
   "name": "python",
   "nbconvert_exporter": "python",
   "pygments_lexer": "ipython3",
   "version": "3.9.2"
  },
  "orig_nbformat": 4
 },
 "nbformat": 4,
 "nbformat_minor": 2
}
