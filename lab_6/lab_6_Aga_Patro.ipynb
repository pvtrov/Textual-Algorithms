{
 "cells": [
  {
   "attachments": {},
   "cell_type": "markdown",
   "metadata": {},
   "source": [
    "# Aga Patro - lab 6"
   ]
  },
  {
   "attachments": {},
   "cell_type": "markdown",
   "metadata": {},
   "source": [
    "## Zadanie 1. Przyjmij następujący zbiór danych wejściowych:"
   ]
  },
  {
   "attachments": {},
   "cell_type": "markdown",
   "metadata": {},
   "source": [
    "### 1.1 bbb$"
   ]
  },
  {
   "cell_type": "code",
   "execution_count": 41,
   "metadata": {},
   "outputs": [],
   "source": [
    "data_0 = \"bbb$\""
   ]
  },
  {
   "attachments": {},
   "cell_type": "markdown",
   "metadata": {},
   "source": [
    "### 1.2 aabbabd"
   ]
  },
  {
   "cell_type": "code",
   "execution_count": 42,
   "metadata": {},
   "outputs": [],
   "source": [
    "data_1 = \"aabbabd\""
   ]
  },
  {
   "attachments": {},
   "cell_type": "markdown",
   "metadata": {},
   "source": [
    "### 1.3 ababcd"
   ]
  },
  {
   "cell_type": "code",
   "execution_count": 43,
   "metadata": {},
   "outputs": [],
   "source": [
    "data_2 = \"ababcd\""
   ]
  },
  {
   "attachments": {},
   "cell_type": "markdown",
   "metadata": {},
   "source": [
    "### 1.4 abaababaabaabaabab$"
   ]
  },
  {
   "cell_type": "code",
   "execution_count": 44,
   "metadata": {},
   "outputs": [],
   "source": [
    "data_3 = \"abaababaabaabaabab$\""
   ]
  },
  {
   "attachments": {},
   "cell_type": "markdown",
   "metadata": {},
   "source": [
    "### 1.5 losowy tekst o długości 100 znaków"
   ]
  },
  {
   "cell_type": "code",
   "execution_count": 45,
   "metadata": {},
   "outputs": [],
   "source": [
    "import string\n",
    "import random\n",
    "\n",
    "data_4 = \"\".join(random.choice(string.ascii_lowercase) for _ in range(96)) + \"qrpu\""
   ]
  },
  {
   "attachments": {},
   "cell_type": "markdown",
   "metadata": {},
   "source": [
    "### 1.6 załączony plik"
   ]
  },
  {
   "cell_type": "code",
   "execution_count": 46,
   "metadata": {},
   "outputs": [],
   "source": [
    "with open(\"1997_714_head.txt\") as file:\n",
    "    data_5 = file.read()"
   ]
  },
  {
   "attachments": {},
   "cell_type": "markdown",
   "metadata": {},
   "source": [
    "## Zadanie 2. Upewnij się, że każdy łańcuch na końcu posiada unikalny znak (marker), a jeśli go nie ma, to dodaj ten znak."
   ]
  },
  {
   "attachments": {},
   "cell_type": "markdown",
   "metadata": {},
   "source": [
    "### Za pomocą poniższego kodu upewniłam się, że każdy z łańcuchów zawiera na końcu unikalny marker \"$\". Jeśli marker znajdował się w środku łańcucha to przeniosłam go na koniec łańcucha, a jeśli go brakowało to dodałam go tam dodałam."
   ]
  },
  {
   "cell_type": "code",
   "execution_count": 62,
   "metadata": {},
   "outputs": [
    {
     "name": "stdout",
     "output_type": "stream",
     "text": [
      "-------------- DATA_0 --------------\n",
      "Ostatnie 4 znaki łańcucha: ...bbb$\n",
      "\n",
      "\n",
      "-------------- DATA_1 --------------\n",
      "Ostatnie 4 znaki łańcucha: ...abd$\n",
      "\n",
      "\n",
      "-------------- DATA_2 --------------\n",
      "Ostatnie 4 znaki łańcucha: ...bcd$\n",
      "\n",
      "\n",
      "-------------- DATA_3 --------------\n",
      "Ostatnie 4 znaki łańcucha: ...bab$\n",
      "\n",
      "\n",
      "-------------- DATA_4 --------------\n",
      "Ostatnie 4 znaki łańcucha: ...rpu$\n",
      "\n",
      "\n",
      "-------------- DATA_5 --------------\n",
      "Ostatnie 4 znaki łańcucha: ...m\".$\n",
      "\n",
      "\n"
     ]
    }
   ],
   "source": [
    "datas = [data_0, data_1, data_2, data_3, data_4, data_5]\n",
    "\n",
    "def check_unique_markers(data):\n",
    "    try:\n",
    "        mark_index = data.index(\"$\")\n",
    "    except ValueError:\n",
    "        data += \"$\"\n",
    "        return data\n",
    "\n",
    "    if mark_index == len(data) - 1:\n",
    "        return data\n",
    "    else:\n",
    "        new_data = data[:mark_index] + data[mark_index + 1:] + \"$\"\n",
    "        return new_data\n",
    "\n",
    "counter = 0\n",
    "for data in datas:\n",
    "    data = check_unique_markers(data)\n",
    "    print(f\"-------------- DATA_{counter} --------------\")\n",
    "    print(f\"Ostatnie 4 znaki łańcucha: ...{data[-4:]}\\n\\n\")\n",
    "    counter += 1"
   ]
  },
  {
   "attachments": {},
   "cell_type": "markdown",
   "metadata": {},
   "source": [
    "## Zadanie 3. Zaimplementuj algorytm konstruujący strukturę trie, która przechowuje wszystkie sufiksy łańcucha danego na wejściu."
   ]
  },
  {
   "cell_type": "code",
   "execution_count": 49,
   "metadata": {},
   "outputs": [],
   "source": [
    "class TrieNode:\n",
    "    def __init__(self, parent = None) -> None:\n",
    "        self.parent = parent\n",
    "        self.kids = dict()\n",
    "\n",
    "    def create_path(self, text, index):\n",
    "        if index == len(text):\n",
    "            return\n",
    "        \n",
    "        elif text[index] not in self.kids.keys():\n",
    "            self.kids[text[index]] = TrieNode(text[index])\n",
    "\n",
    "        self.kids[text[index]].create_path(text, index + 1)\n",
    "\n",
    "    def search(self, text, index):\n",
    "        if len(text) == index:\n",
    "            return True\n",
    "        \n",
    "        if text[index] in self.kids.keys():\n",
    "            return self.kids[text[index]].search(text, index + 1)\n",
    "        \n",
    "        return False\n",
    "\n",
    "def build_trie_tree(text):\n",
    "    root = TrieNode()\n",
    "    for index in range(len(text)):\n",
    "        root.create_path(text, index)\n",
    "\n",
    "    return root\n",
    "\n",
    "def find_pattern_with_trie(text, pattern):\n",
    "    tree = build_trie_tree(text)\n",
    "    \n",
    "    return tree.search(pattern, 0)"
   ]
  },
  {
   "attachments": {},
   "cell_type": "markdown",
   "metadata": {},
   "source": [
    "## Zadanie 4. Zaimplementuj algorytm konstruujący drzewo sufiksów."
   ]
  },
  {
   "cell_type": "code",
   "execution_count": 50,
   "metadata": {},
   "outputs": [],
   "source": [
    "class SuffixEdge:\n",
    "    def __init__(self, p, q) -> None:\n",
    "        self.start = p\n",
    "        self.end = q\n",
    "\n",
    "class SuffixNode:\n",
    "    def __init__(self) -> None:\n",
    "        self.kids = dict()\n",
    "\n",
    "    def create_path(self, text, p, q):\n",
    "        letter = text[p]\n",
    "\n",
    "        if letter not in self.kids.keys():\n",
    "            self.kids[letter] = (SuffixEdge(p, q), SuffixNode())\n",
    "        else:\n",
    "            edge, node = self.kids[letter]\n",
    "            edge_len = edge.end - edge.start + 1\n",
    "            text_len = q - p + 1\n",
    "\n",
    "            eq_len = 1\n",
    "            for i in range(1, min(edge_len, text_len)):\n",
    "                index_edge = edge.start + i\n",
    "                index_text = p + i\n",
    "                if text[index_edge] != text[index_text]:\n",
    "                    break\n",
    "                eq_len += 1\n",
    "\n",
    "            if eq_len == edge_len:\n",
    "                if eq_len != text_len:\n",
    "                    node.create_path(text, p + edge_len, q)\n",
    "                return\n",
    "            \n",
    "            new_node = SuffixNode()\n",
    "            self.kids[letter] = (SuffixEdge(edge.start, edge.start + eq_len - 1), new_node)\n",
    "            new_node.kids[text[edge.start + eq_len]] = (SuffixEdge(edge.start + eq_len, edge.end), node)\n",
    "\n",
    "            if eq_len != text_len:\n",
    "                new_node.create_path(text, p + eq_len, q)\n",
    "\n",
    "    def search(self, text, pattern):\n",
    "        if pattern == '':\n",
    "            return True\n",
    "        if pattern[0] not in self.kids.keys():\n",
    "            return False\n",
    "        \n",
    "        edge, next_node = self.kids[pattern[0]]\n",
    "        m = edge.end - edge.start + 1\n",
    "        n = len(pattern)\n",
    "        if n <= m:\n",
    "            return text[edge.start : edge.start + n] == pattern\n",
    "\n",
    "        return text[edge.start : edge.end + 1] == pattern[:m] and next_node.search(text, pattern[m:])\n",
    "    \n",
    "def build_suffix_tree(text):\n",
    "    root = SuffixNode()\n",
    "    lenght = len(text)\n",
    "    counter = 0\n",
    "\n",
    "    for index in range(lenght-1):\n",
    "        counter += 1\n",
    "        root.create_path(text, index, lenght-1)\n",
    "    \n",
    "    return root\n",
    "\n",
    "def find_pattern_with_suffix(text, pattern):\n",
    "    tree = build_suffix_tree(text)\n",
    "\n",
    "    return tree.search(text, pattern)"
   ]
  },
  {
   "attachments": {},
   "cell_type": "markdown",
   "metadata": {},
   "source": [
    "## Zadanie 5. Upewnij się, że powstałe struktury danych są poprawne. Możesz np. sprawdzić, czy struktura zawiera jakiś ciąg znaków i porównać wyniki z algorytmem wyszukiwania wzorców."
   ]
  },
  {
   "attachments": {},
   "cell_type": "markdown",
   "metadata": {},
   "source": [
    "### Algorytm Knutha-Morrisa-Pratta służący do wyszukiwania wzorców w tekście"
   ]
  },
  {
   "cell_type": "code",
   "execution_count": 51,
   "metadata": {},
   "outputs": [],
   "source": [
    "def prefix_function(pattern):\n",
    "    lps = [0] * len(pattern)\n",
    "    l = 0\n",
    "    i = 1\n",
    "\n",
    "    while i < len(pattern):\n",
    "        while l > 0 and pattern[i] != pattern[l]:\n",
    "            l -= 1\n",
    "        \n",
    "        if pattern[i] == pattern[l]:\n",
    "            l += 1\n",
    "            \n",
    "        lps[i] = l\n",
    "        i += 1\n",
    "    \n",
    "    return lps\n",
    "\n",
    "def kmp_string_matching(text, pattern, lps):\n",
    "    result = []\n",
    "    i = 0\n",
    "    j = 0\n",
    "\n",
    "    while i < len(text):\n",
    "        if text[i] != pattern[j]:\n",
    "            if j > 0:\n",
    "                j = lps[j-1]\n",
    "            else:\n",
    "                i += 1\n",
    "        else:\n",
    "            i, j = i+1, j+1\n",
    "            if j == len(pattern):\n",
    "                result.append(i-j)\n",
    "                j = lps[j-1]\n",
    "    \n",
    "    return len(result)\n",
    "\n",
    "def is_there_pattern(text, pattern):\n",
    "    if kmp_string_matching(text=text, pattern=pattern, lps=prefix_function(pattern)) > 0:\n",
    "        return True\n",
    "    else:\n",
    "        return False"
   ]
  },
  {
   "attachments": {},
   "cell_type": "markdown",
   "metadata": {},
   "source": [
    "### Testy czy moje drzewa działają:"
   ]
  },
  {
   "cell_type": "code",
   "execution_count": 61,
   "metadata": {},
   "outputs": [
    {
     "name": "stdout",
     "output_type": "stream",
     "text": [
      "-------------- TEST 0 --------------\n",
      "\n",
      "Checking text: ababcd\n",
      "Valid pattern: aba\n",
      "Is it there: True \n",
      "Trie tree: True\n",
      "Suffix tree: True\n",
      "\n",
      "Inalid pattern: xyz\n",
      "Is it there: False\n",
      "Trie tree: False\n",
      "Suffix tree: False\n",
      "\n",
      "\n",
      "-------------- TEST 1 --------------\n",
      "\n",
      "Checking text: abaababaabaabaabab$\n",
      "Valid pattern: aabaa\n",
      "Is it there: True \n",
      "Trie tree: True\n",
      "Suffix tree: True\n",
      "\n",
      "Inalid pattern: 2137\n",
      "Is it there: False\n",
      "Trie tree: False\n",
      "Suffix tree: False\n",
      "\n",
      "\n",
      "-------------- TEST 2 --------------\n",
      "\n",
      "Checking text: ekrrhdhpaptmzbongponqtgvllzmoyyrdyczajjitkyoxmpltcqncsmfieenewwgavuhumhubyfikyuxdpbozbebtneklfwfqrpu\n",
      "Valid pattern: qrpu\n",
      "Is it there: True \n",
      "Trie tree: True\n",
      "Suffix tree: True\n",
      "\n",
      "Inalid pattern: olc\n",
      "Is it there: False\n",
      "Trie tree: False\n",
      "Suffix tree: False\n",
      "\n",
      "\n"
     ]
    }
   ],
   "source": [
    "valid_patterns = [\"aba\", \"aabaa\", \"qrpu\"]\n",
    "invalid_patterns = [\"xyz\", \"2137\", \"olc\"]\n",
    "texts = [data_2, data_3, data_4]\n",
    "\n",
    "for test_nb in range(len(texts)):\n",
    "    print(f\"-------------- TEST {test_nb} --------------\\n\")\n",
    "    print(f\"Checking text: {texts[test_nb]}\")\n",
    "    print(f\"Valid pattern: {valid_patterns[test_nb]}\")\n",
    "    print(f\"Is it there: {is_there_pattern(texts[test_nb], valid_patterns[test_nb])} \")\n",
    "    print(f\"Trie tree: {find_pattern_with_trie(texts[test_nb], valid_patterns[test_nb])}\")\n",
    "    print(f\"Suffix tree: {find_pattern_with_suffix(texts[test_nb], valid_patterns[test_nb])}\\n\")\n",
    "    print(f\"Inalid pattern: {invalid_patterns[test_nb]}\")\n",
    "    print(f\"Is it there: {is_there_pattern(texts[test_nb], invalid_patterns[test_nb])}\")\n",
    "    print(f\"Trie tree: {find_pattern_with_trie(texts[test_nb], invalid_patterns[test_nb])}\")\n",
    "    print(f\"Suffix tree: {find_pattern_with_suffix(texts[test_nb], invalid_patterns[test_nb])}\\n\\n\")"
   ]
  },
  {
   "attachments": {},
   "cell_type": "markdown",
   "metadata": {},
   "source": [
    "### Z powyższych testów wynika, że moje drzewa działają"
   ]
  },
  {
   "attachments": {},
   "cell_type": "markdown",
   "metadata": {},
   "source": [
    "## Zadanie 6. Porównaj szybkość działania algorytmów konstruujących struktury danych dla danych z p. 1."
   ]
  },
  {
   "cell_type": "code",
   "execution_count": 59,
   "metadata": {},
   "outputs": [],
   "source": [
    "from timeit import default_timer as timer\n",
    "valid_patterns = [\"bb\", \"babd\", \"bab\", \"aaba\", \"qrpu\", \"fizyczne\"]\n",
    "\n",
    "def compare_time(test_number, data):\n",
    "    start_trie = timer()\n",
    "    trie_tree = build_trie_tree(data)\n",
    "    end_trie = timer()\n",
    "    trie_time = end_trie - start_trie\n",
    "\n",
    "    start_suffix = timer()\n",
    "    suffix_tree = build_suffix_tree(data)\n",
    "    end_suffix = timer()\n",
    "    suffix_time = end_suffix - start_suffix\n",
    "\n",
    "    print(f\"-------------- TIME FOR DATA_{test_number} --------------\\n\")\n",
    "    if test_number == 5:\n",
    "        print(f\"Tekst: załączony plik ustawy\")\n",
    "    elif test_number == 4:\n",
    "        print(f\"Tekst: łańcuch 100 randomowych znaków\")\n",
    "    else:\n",
    "        print(f\"Tekst: {data}\")\n",
    "    print(f\"Building trie tree: {trie_time}\")\n",
    "    print(f\"Building suffix tree: {suffix_time}\\n\\n\")\n",
    "    "
   ]
  },
  {
   "cell_type": "code",
   "execution_count": 60,
   "metadata": {},
   "outputs": [
    {
     "name": "stdout",
     "output_type": "stream",
     "text": [
      "-------------- TIME FOR DATA_0 --------------\n",
      "\n",
      "Tekst: bbb$\n",
      "Building trie tree: 1.9626000721473247e-05\n",
      "Building suffix tree: 2.3815999156795442e-05\n",
      "\n",
      "\n",
      "-------------- TIME FOR DATA_1 --------------\n",
      "\n",
      "Tekst: aabbabd\n",
      "Building trie tree: 3.289500091341324e-05\n",
      "Building suffix tree: 2.4304998078150675e-05\n",
      "\n",
      "\n",
      "-------------- TIME FOR DATA_2 --------------\n",
      "\n",
      "Tekst: ababcd\n",
      "Building trie tree: 2.1161999029573053e-05\n",
      "Building suffix tree: 1.410699769621715e-05\n",
      "\n",
      "\n",
      "-------------- TIME FOR DATA_3 --------------\n",
      "\n",
      "Tekst: abaababaabaabaabab$\n",
      "Building trie tree: 0.0001406600022164639\n",
      "Building suffix tree: 0.00021420300254249014\n",
      "\n",
      "\n",
      "-------------- TIME FOR DATA_4 --------------\n",
      "\n",
      "Tekst: łańcuch 100 randomowych znaków\n",
      "Building trie tree: 0.007597126001201104\n",
      "Building suffix tree: 0.0002929839974967763\n",
      "\n",
      "\n",
      "-------------- TIME FOR DATA_5 --------------\n",
      "\n",
      "Tekst: załączony plik ustawy\n",
      "Building trie tree: 8.792844731000514\n",
      "Building suffix tree: 0.0152418130019214\n",
      "\n",
      "\n"
     ]
    }
   ],
   "source": [
    "datas = [data_0, data_1, data_2, data_3, data_4, data_5]\n",
    "\n",
    "for index in range(len(datas)):\n",
    "    compare_time(index, datas[index])"
   ]
  },
  {
   "attachments": {},
   "cell_type": "markdown",
   "metadata": {},
   "source": [
    "## Zadanie 7. Dla załączonego tekstu czas wariantów 1 i 2 może być nieakceptowalnie długi - w tej sytuacji pomiń wyniki pomiarów dla tego tekstu."
   ]
  },
  {
   "attachments": {},
   "cell_type": "markdown",
   "metadata": {},
   "source": [
    "### Jak widać na powyższych wynikach, budowanie Trie Tree dla załączonego pliku zajęło \"tylko\" 8s, i myślę, że jest to akceptowalny czas :)"
   ]
  }
 ],
 "metadata": {
  "kernelspec": {
   "display_name": "Python 3",
   "language": "python",
   "name": "python3"
  },
  "language_info": {
   "codemirror_mode": {
    "name": "ipython",
    "version": 3
   },
   "file_extension": ".py",
   "mimetype": "text/x-python",
   "name": "python",
   "nbconvert_exporter": "python",
   "pygments_lexer": "ipython3",
   "version": "3.9.2"
  },
  "orig_nbformat": 4
 },
 "nbformat": 4,
 "nbformat_minor": 2
}
