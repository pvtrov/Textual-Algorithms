{
 "cells": [
  {
   "cell_type": "markdown",
   "id": "9b02ed33-983a-4dc6-a18c-f98806a54d9d",
   "metadata": {},
   "source": [
    "# Aga Patro - lab 2"
   ]
  },
  {
   "attachments": {},
   "cell_type": "markdown",
   "id": "ff60de57-3f7b-447f-bc47-77470ec5705e",
   "metadata": {},
   "source": [
    "## Zadanie 1. Implementacja algorytmów "
   ]
  },
  {
   "cell_type": "markdown",
   "id": "106fbcc1-5de7-45ed-a4a9-2c8eebc0ec80",
   "metadata": {},
   "source": [
    "### 1.1 Statyczny algorytm Huffmana"
   ]
  },
  {
   "cell_type": "code",
   "execution_count": 60,
   "id": "e1dfb123-9d97-4a02-a742-5189df792461",
   "metadata": {},
   "outputs": [],
   "source": [
    "from heapq import heappop, heappush, heapify\n",
    "from bitarray import bitarray\n",
    "from bitarray.util import ba2int"
   ]
  },
  {
   "cell_type": "code",
   "execution_count": 61,
   "id": "6efad1e9",
   "metadata": {},
   "outputs": [],
   "source": [
    "class Node:\n",
    "    def __init__(self, value, letter=None, left=None, right=None):\n",
    "        self.value = value\n",
    "        self.letter = letter\n",
    "        self.left = left\n",
    "        self.right = right\n",
    "\n",
    "    def __gt__(self, other):\n",
    "        return self.value > other.value\n",
    "\n",
    "\n",
    "def count_letters(text):\n",
    "    letters = {}\n",
    "    for letter in text:\n",
    "        letters[letter] = letters.get(letter, 0) + 1\n",
    "\n",
    "    return letters\n",
    "\n",
    "\n",
    "def build_static_huffman_tree(text):\n",
    "    counted_letters = count_letters(text)\n",
    "    leafs = [Node(weight, letter) for letter, weight in counted_letters.items()]\n",
    "    while len(leafs) > 1:\n",
    "        el_1 = heappop(leafs)\n",
    "        el_2 = heappop(leafs)\n",
    "        heappush(leafs, Node(el_1.value + el_2.value, left=el_1, right=el_2))\n",
    "\n",
    "    return leafs[0]\n",
    "\n",
    "\n",
    "def create_huffman_code(node, codes, code):\n",
    "    if node.letter is not None:\n",
    "        codes[node.letter] = code\n",
    "\n",
    "    code_cpy = code.copy()\n",
    "    if node.left is not None:\n",
    "        code.append(0)\n",
    "        create_huffman_code(node.left, codes, code)\n",
    "\n",
    "    if node.right is not None:\n",
    "        code = code_cpy\n",
    "        code.append(1)\n",
    "        create_huffman_code(node.right, codes, code)\n",
    "\n",
    "    return codes\n",
    "\n",
    "\n",
    "def encode_static_huffman_tree(text, codes):\n",
    "    result = bitarray()\n",
    "    for letter in text:\n",
    "        result.extend(codes[letter])\n",
    "\n",
    "    return result\n",
    "\n",
    "\n",
    "def decode_static_huffman_tree(huffman_tree, encoded_text):\n",
    "    node = huffman_tree\n",
    "    decoded_text = ''\n",
    "    for bit in encoded_text:\n",
    "        if not bit:\n",
    "            node = node.left\n",
    "        else:\n",
    "            node = node.right\n",
    "\n",
    "        if not node.left and not node.right:\n",
    "            decoded_text += node.letter\n",
    "            node = huffman_tree\n",
    "\n",
    "    return decoded_text\n",
    "\n",
    "\n",
    "def static_huffman(text):\n",
    "    huffman_tree = build_static_huffman_tree(text)\n",
    "    codes = create_huffman_code(huffman_tree, dict(), bitarray())\n",
    "    encoded_text = encode_static_huffman_tree(text, codes)\n",
    "    decoded_text = decode_static_huffman_tree(huffman_tree, encoded_text)\n",
    "\n",
    "    return decoded_text"
   ]
  },
  {
   "cell_type": "code",
   "execution_count": 62,
   "id": "88b855c8",
   "metadata": {},
   "outputs": [
    {
     "name": "stdout",
     "output_type": "stream",
     "text": [
      "Text: Let's check if it work\n",
      "Decoded text: Let's check if it work\n"
     ]
    }
   ],
   "source": [
    "text = \"Let's check if it work\"\n",
    "decoded_text = static_huffman(text)\n",
    "print(f\"Text: {text}\\nDecoded text: {decoded_text}\")"
   ]
  },
  {
   "attachments": {},
   "cell_type": "markdown",
   "id": "95378e08",
   "metadata": {},
   "source": [
    "## Zadanie 2. Pomiary kompresji oraz dekompresji"
   ]
  },
  {
   "attachments": {},
   "cell_type": "markdown",
   "id": "102177d6",
   "metadata": {},
   "source": [
    "### 2.1 Format pliku\n",
    "Wynik kompresji zapisywany jest w postaci bitowej przy użyciu \"bitarray\", co powinno rozwiązać problem konwersji na znaki ASCII oraz niepełnych bitów na końcu pliku. Plik wynikowy jest w postaci binarnej."
   ]
  },
  {
   "attachments": {},
   "cell_type": "markdown",
   "id": "787d4a96",
   "metadata": {},
   "source": [
    "### 2.3 Pomiar wpółczynnika oraz czasu kompresji "
   ]
  },
  {
   "attachments": {},
   "cell_type": "markdown",
   "id": "3865d9e6",
   "metadata": {},
   "source": [
    "#### Pliki wejściowe. \n",
    "Do pomiarów wybrałam następujące pliki:\n",
    "* \"History of Astronomy\" z projektu Gutenberg\n",
    "* plik źródłowy \"crypto_engine.c\" jądra Linuksa\n",
    "* stworzyłam swój własny plik ze znakami losowymi\n",
    "\n",
    "Każdy z plików przerobiłam tak, by miały wymagane rozmiary"
   ]
  },
  {
   "cell_type": "code",
   "execution_count": 88,
   "id": "b3c3ee93",
   "metadata": {},
   "outputs": [],
   "source": [
    "import os\n",
    "import time\n",
    "\n",
    "\n",
    "def compression_ratio(read_file, write_file):\n",
    "    read_size = os.path.getsize(read_file)\n",
    "    print(\"Size before compression:\", read_size)\n",
    "    write_size = os.path.getsize(write_file)/8\n",
    "    print(\"Size after compression: \", write_size) \n",
    "    print(1 - write_size/read_size) \n",
    "\n",
    "\n",
    "def compression_test(filename):\n",
    "    with open(filename, \"r\") as file:\n",
    "        text = file.read()\n",
    "    \n",
    "    print(\"\\n--------------------------\")\n",
    "    print(\"Static Huffman compression\")\n",
    "    print(\"--------------------------\\n\")\n",
    "    result_filename = filename.replace('input', 'output')\n",
    "    with open(result_filename, \"wb+\") as file:\n",
    "        file.truncate()\n",
    "\n",
    "        static_tree = build_static_huffman_tree(text)\n",
    "        codes = create_huffman_code(static_tree, dict(), bitarray())\n",
    "\n",
    "        start_e = time.time()\n",
    "        encoded_text = encode_static_huffman_tree(text, codes)\n",
    "        end_e = time.time()\n",
    "\n",
    "        encoded_text.tofile(file)\n",
    "\n",
    "        start_d = time.time()\n",
    "        decoded_text = decode_static_huffman_tree(static_tree, encoded_text)\n",
    "        end_d = time.time()\n",
    "\n",
    "        file.close()\n",
    "    \n",
    "\n",
    "    compression_ratio(filename, result_filename)\n",
    "    time_e1 = end_e - start_e\n",
    "    print(\"Time encoding:\", time_e1)\n",
    "    time_d1 = end_d - start_d\n",
    "    print(\"Time decoding\", time_d1)\n",
    "    "
   ]
  },
  {
   "cell_type": "code",
   "execution_count": 86,
   "id": "4978993b",
   "metadata": {},
   "outputs": [
    {
     "name": "stdout",
     "output_type": "stream",
     "text": [
      "\n",
      "--------------------------\n",
      "Static Huffman compression\n",
      "--------------------------\n",
      "\n",
      "Size before compression: 1024\n",
      "Size after compression:  84.375\n",
      "0.9176025390625\n",
      "Time encoding: 9.036064147949219e-05\n",
      "Time decoding 0.0003829002380371094\n",
      "\n",
      "--------------------------\n",
      "Static Huffman compression\n",
      "--------------------------\n",
      "\n",
      "Size before compression: 10318\n",
      "Size after compression:  788.25\n",
      "0.9236043806939329\n",
      "Time encoding: 0.0007460117340087891\n",
      "Time decoding 0.0036771297454833984\n",
      "\n",
      "--------------------------\n",
      "Static Huffman compression\n",
      "--------------------------\n",
      "\n",
      "Size before compression: 102942\n",
      "Size after compression:  7405.25\n",
      "0.9280638612033961\n",
      "Time encoding: 0.006704092025756836\n",
      "Time decoding 0.03495049476623535\n",
      "\n",
      "--------------------------\n",
      "Static Huffman compression\n",
      "--------------------------\n",
      "\n",
      "Size before compression: 1054067\n",
      "Size after compression:  77243.875\n",
      "0.9267182494091931\n",
      "Time encoding: 0.06811833381652832\n",
      "Time decoding 0.35932040214538574\n"
     ]
    }
   ],
   "source": [
    "sizes = ['1kb', '10kb', '100kb', '1mb']\n",
    "\n",
    "for size in sizes:\n",
    "    compression_test(f'/home/mirabelka/Projects/Textual-Algorithms/lab_2/input/hoa_{size}.txt')"
   ]
  },
  {
   "cell_type": "code",
   "execution_count": 83,
   "id": "3ffb6fd0",
   "metadata": {},
   "outputs": [
    {
     "name": "stdout",
     "output_type": "stream",
     "text": [
      "\n",
      "--------------------------\n",
      "Static Huffman compression\n",
      "--------------------------\n",
      "\n",
      "Size before compression: 1024\n",
      "Size after compression:  83.0\n",
      "0.9189453125\n",
      "Time encoding: 8.988380432128906e-05\n",
      "Time decoding 0.000400543212890625\n",
      "\n",
      "--------------------------\n",
      "Static Huffman compression\n",
      "--------------------------\n",
      "\n",
      "Size before compression: 10240\n",
      "Size after compression:  803.25\n",
      "0.9215576171875\n",
      "Time encoding: 0.0007505416870117188\n",
      "Time decoding 0.0037293434143066406\n",
      "\n",
      "--------------------------\n",
      "Static Huffman compression\n",
      "--------------------------\n",
      "\n",
      "Size before compression: 102400\n",
      "Size after compression:  8179.375\n",
      "0.920123291015625\n",
      "Time encoding: 0.009593963623046875\n",
      "Time decoding 0.04712629318237305\n",
      "\n",
      "--------------------------\n",
      "Static Huffman compression\n",
      "--------------------------\n",
      "\n",
      "Size before compression: 1048576\n",
      "Size after compression:  83278.25\n",
      "0.9205796718597412\n",
      "Time encoding: 0.07552528381347656\n",
      "Time decoding 0.39455747604370117\n"
     ]
    }
   ],
   "source": [
    "sizes = ['1kb', '10kb', '100kb', '1mb']\n",
    "\n",
    "for size in sizes:\n",
    "    compression_test(f'/home/mirabelka/Projects/Textual-Algorithms/lab_2/input/crypto_engine_{size}.c')"
   ]
  },
  {
   "cell_type": "code",
   "execution_count": 87,
   "id": "f999d4ff",
   "metadata": {},
   "outputs": [
    {
     "name": "stdout",
     "output_type": "stream",
     "text": [
      "\n",
      "--------------------------\n",
      "Static Huffman compression\n",
      "--------------------------\n",
      "\n",
      "Size before compression: 1024\n",
      "Size after compression:  106.5\n",
      "0.89599609375\n",
      "Time encoding: 0.00010061264038085938\n",
      "Time decoding 0.0004639625549316406\n",
      "\n",
      "--------------------------\n",
      "Static Huffman compression\n",
      "--------------------------\n",
      "\n",
      "Size before compression: 10240\n",
      "Size after compression:  1068.125\n",
      "0.89569091796875\n",
      "Time encoding: 0.0011889934539794922\n",
      "Time decoding 0.00475001335144043\n",
      "\n",
      "--------------------------\n",
      "Static Huffman compression\n",
      "--------------------------\n",
      "\n",
      "Size before compression: 102400\n",
      "Size after compression:  10704.5\n",
      "0.8954638671875\n",
      "Time encoding: 0.009016752243041992\n",
      "Time decoding 0.046965599060058594\n",
      "\n",
      "--------------------------\n",
      "Static Huffman compression\n",
      "--------------------------\n",
      "\n",
      "Size before compression: 1048576\n",
      "Size after compression:  109718.625\n",
      "0.8953641653060913\n",
      "Time encoding: 0.0935359001159668\n",
      "Time decoding 0.48256897926330566\n"
     ]
    }
   ],
   "source": [
    "sizes = ['1kb', '10kb', '100kb', '1mb']\n",
    "\n",
    "for size in sizes:\n",
    "    compression_test(f'/home/mirabelka/Projects/Textual-Algorithms/lab_2/input/random_data_{size}.txt')"
   ]
  }
 ],
 "metadata": {
  "kernelspec": {
   "display_name": "Python 3 (ipykernel)",
   "language": "python",
   "name": "python3"
  },
  "language_info": {
   "codemirror_mode": {
    "name": "ipython",
    "version": 3
   },
   "file_extension": ".py",
   "mimetype": "text/x-python",
   "name": "python",
   "nbconvert_exporter": "python",
   "pygments_lexer": "ipython3",
   "version": "3.9.2"
  }
 },
 "nbformat": 4,
 "nbformat_minor": 5
}
