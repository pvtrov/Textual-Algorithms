{
 "cells": [
  {
   "cell_type": "markdown",
   "metadata": {},
   "source": [
    "# Aga Patro - lab 3"
   ]
  },
  {
   "attachments": {},
   "cell_type": "markdown",
   "metadata": {},
   "source": [
    "## Zadanie 1. Implementacja algorytmu obliczania odległości edycyjnej"
   ]
  },
  {
   "cell_type": "code",
   "execution_count": 33,
   "metadata": {},
   "outputs": [],
   "source": [
    "def levenshtein_distance(word_1, word_2):\n",
    "    m = len(word_1)\n",
    "    n = len(word_2)\n",
    "    result_matrix = [[0 for j in range(n+1)] for i in range(m+1)]\n",
    "\n",
    "    for i in range(0, m + 1):\n",
    "        result_matrix[i][0] = i\n",
    "    for j in range(0, n + 1):\n",
    "        result_matrix[0][j] = j\n",
    "\n",
    "    for i in range(1, m + 1):\n",
    "        for j in range(1, n + 1):\n",
    "            if word_1[i - 1] == word_2[j - 1]:\n",
    "                result_matrix[i][j] = result_matrix[i - 1][j - 1]\n",
    "            else:\n",
    "                result_matrix[i][j] = min(result_matrix[i - 1][j], \n",
    "                                          result_matrix[i][j - 1], \n",
    "                                          result_matrix[i - 1][j - 1]) + 1\n",
    "\n",
    "    return result_matrix"
   ]
  },
  {
   "cell_type": "code",
   "execution_count": 34,
   "metadata": {},
   "outputs": [
    {
     "name": "stdout",
     "output_type": "stream",
     "text": [
      "5\n"
     ]
    }
   ],
   "source": [
    "word_1 = 'matematyka'\n",
    "word_2 = 'informatyka'\n",
    "print(levenshtein_distance(word_1, word_2)[-1][-1])"
   ]
  },
  {
   "attachments": {},
   "cell_type": "markdown",
   "metadata": {},
   "source": [
    "## Zadanie 2. Wizualizacja działania algorytmu Levenshteina"
   ]
  },
  {
   "cell_type": "code",
   "execution_count": 3,
   "metadata": {},
   "outputs": [],
   "source": [
    "def get_edit_operations(word_1, word_2, edit_matrix):\n",
    "    operations = []\n",
    "    position = []\n",
    "    n = len(word_1)\n",
    "    m = len(word_2)\n",
    "\n",
    "    while n > 0 or m > 0:\n",
    "        if edit_matrix[n - 1][m] + 1 == edit_matrix[n][m]:\n",
    "            operations.append(\"Removed\")\n",
    "            n -= 1\n",
    "        elif edit_matrix[n][m - 1] + 1 == edit_matrix[n][m]:\n",
    "            operations.append(\"Added\")\n",
    "            m -= 1\n",
    "        elif edit_matrix[n - 1][m - 1] == edit_matrix[n][m]:\n",
    "            operations.append(\"No changes\")\n",
    "            n -= 1\n",
    "            m -= 1\n",
    "        else:\n",
    "            operations.append(\"Replaced\")\n",
    "            n -= 1\n",
    "            m -= 1\n",
    "\n",
    "        position.append(m)\n",
    "    \n",
    "    position.reverse()\n",
    "    operations.reverse()\n",
    "    \n",
    "    return operations, position\n"
   ]
  },
  {
   "cell_type": "code",
   "execution_count": 4,
   "metadata": {},
   "outputs": [],
   "source": [
    "def visualization(word_1, word_2, operations, edit_nb):\n",
    "    i = 0\n",
    "    j = 0\n",
    "    print(f\"To get word {word_2} from word {word_1} you need to do {edit_nb} operations: \\n\")\n",
    "\n",
    "    for operation in operations:\n",
    "        if operation == 'Added':\n",
    "            print(f\"Add {word_2[j]}: {word_1[:j]}[{word_2[j]}]{word_1[j:]}\\n\")\n",
    "            word_1 = word_1[:j] + word_2[j] + word_1[j:]\n",
    "        elif operation == 'Removed':\n",
    "            print(f\"Remove {word_1[i]}: {word_1[:i]}[{word_1[i]}]{word_1[i + 1:]}\\n\")\n",
    "            word_1 = word_1[:i] + word_1[i + 1:]\n",
    "            continue\n",
    "        elif operation == 'Replaced':\n",
    "            print(f\"Replace {word_1[i]} with {word_2[j]}: {word_1[:i]}[{word_1[i]} -> {word_2[j]}]{word_1[i + 1:]} \\n\")\n",
    "            word_1 = word_1[:j] + word_2[j] + word_1[j + 1:]\n",
    "        i += 1\n",
    "        j += 1\n",
    "    \n",
    "    if word_1 == word_2:\n",
    "        print(f\"Success! Now first word is: {word_1}, which is the same as second word: {word_2}! \\n\")\n",
    "    else:\n",
    "        print(f\"Ups, something went wrong :( \\n\")\n"
   ]
  },
  {
   "attachments": {},
   "cell_type": "markdown",
   "metadata": {},
   "source": [
    "## Zadanie 3. Testy działania algorytmu"
   ]
  },
  {
   "cell_type": "code",
   "execution_count": 5,
   "metadata": {},
   "outputs": [],
   "source": [
    "def test_levenshtein(word_1, word_2):\n",
    "    edit_matrix = levenshtein_distance(word_1, word_2)\n",
    "    operations, _ = get_edit_operations(word_1, word_2, edit_matrix)\n",
    "    visualization(word_1, word_2, operations, edit_matrix[-1][-1])"
   ]
  },
  {
   "attachments": {},
   "cell_type": "markdown",
   "metadata": {},
   "source": [
    "### 3.1 los - kloc"
   ]
  },
  {
   "cell_type": "code",
   "execution_count": 6,
   "metadata": {},
   "outputs": [
    {
     "name": "stdout",
     "output_type": "stream",
     "text": [
      "To get word kloc from word los you need to do 2 operations: \n",
      "\n",
      "Add k: [k]los\n",
      "\n",
      "Replace s with c: klo[s -> c] \n",
      "\n",
      "Success! Now first word is: kloc, which is the same as second word: kloc! \n",
      "\n"
     ]
    }
   ],
   "source": [
    "test_levenshtein('los', 'kloc')"
   ]
  },
  {
   "attachments": {},
   "cell_type": "markdown",
   "metadata": {},
   "source": [
    "### 3.2 Łódź - Lodz"
   ]
  },
  {
   "cell_type": "code",
   "execution_count": 7,
   "metadata": {},
   "outputs": [
    {
     "name": "stdout",
     "output_type": "stream",
     "text": [
      "To get word Lodz from word Łódź you need to do 3 operations: \n",
      "\n",
      "Replace Ł with L: [Ł -> L]ódź \n",
      "\n",
      "Replace ó with o: L[ó -> o]dź \n",
      "\n",
      "Replace ź with z: Lod[ź -> z] \n",
      "\n",
      "Success! Now first word is: Lodz, which is the same as second word: Lodz! \n",
      "\n"
     ]
    }
   ],
   "source": [
    "test_levenshtein('Łódź', 'Lodz')"
   ]
  },
  {
   "attachments": {},
   "cell_type": "markdown",
   "metadata": {},
   "source": [
    "### 3.3 kwintesencja - quintessence"
   ]
  },
  {
   "cell_type": "code",
   "execution_count": 8,
   "metadata": {},
   "outputs": [
    {
     "name": "stdout",
     "output_type": "stream",
     "text": [
      "To get word quintessence from word kwintesencja you need to do 5 operations: \n",
      "\n",
      "Replace k with q: [k -> q]wintesencja \n",
      "\n",
      "Replace w with u: q[w -> u]intesencja \n",
      "\n",
      "Add s: quintes[s]encja\n",
      "\n",
      "Replace j with e: quintessenc[j -> e]a \n",
      "\n",
      "Remove a: quintessence[a]\n",
      "\n",
      "Success! Now first word is: quintessence, which is the same as second word: quintessence! \n",
      "\n"
     ]
    }
   ],
   "source": [
    "test_levenshtein('kwintesencja', 'quintessence')"
   ]
  },
  {
   "attachments": {},
   "cell_type": "markdown",
   "metadata": {},
   "source": [
    "### 3.4 ATGAATCTTACCGCCTCG - ATGAGGCTCTGGCCCCTG"
   ]
  },
  {
   "cell_type": "code",
   "execution_count": 9,
   "metadata": {},
   "outputs": [
    {
     "name": "stdout",
     "output_type": "stream",
     "text": [
      "To get word ATGAGGCTCTGGCCCCTG from word ATGAATCTTACCGCCTCG you need to do 7 operations: \n",
      "\n",
      "Replace A with G: ATGA[A -> G]TCTTACCGCCTCG \n",
      "\n",
      "Replace T with G: ATGAG[T -> G]CTTACCGCCTCG \n",
      "\n",
      "Add C: ATGAGGCT[C]TACCGCCTCG\n",
      "\n",
      "Replace A with G: ATGAGGCTCT[A -> G]CCGCCTCG \n",
      "\n",
      "Add G: ATGAGGCTCTG[G]CCGCCTCG\n",
      "\n",
      "Remove G: ATGAGGCTCTGGCC[G]CCTCG\n",
      "\n",
      "Remove C: ATGAGGCTCTGGCCCCT[C]G\n",
      "\n",
      "Success! Now first word is: ATGAGGCTCTGGCCCCTG, which is the same as second word: ATGAGGCTCTGGCCCCTG! \n",
      "\n"
     ]
    }
   ],
   "source": [
    "test_levenshtein('ATGAATCTTACCGCCTCG', 'ATGAGGCTCTGGCCCCTG')"
   ]
  },
  {
   "attachments": {},
   "cell_type": "markdown",
   "metadata": {},
   "source": [
    "## Zadanie 4. Implementacja algorytmu znajdującego najdłuższe wspólne podsłowo"
   ]
  },
  {
   "cell_type": "code",
   "execution_count": 10,
   "metadata": {},
   "outputs": [],
   "source": [
    "def longest_common_subsequence(word_1, word_2):\n",
    "    m = len(word_1)\n",
    "    n = len(word_2)\n",
    "    matrix = [[0 for j in range(n+1)] for i in range(m+1)]\n",
    "    max_length = 0\n",
    "\n",
    "    for i in range(1, m):\n",
    "        for j in range(1, n):\n",
    "            if word_1[i] == word_2[j]:\n",
    "                matrix[i][j] = matrix[i-1][j-1] + 1\n",
    "                max_length = max(max_length, matrix[i][j])\n",
    "            else:\n",
    "                matrix[i][j] = 0\n",
    "\n",
    "    return max_length"
   ]
  },
  {
   "cell_type": "code",
   "execution_count": 11,
   "metadata": {},
   "outputs": [
    {
     "name": "stdout",
     "output_type": "stream",
     "text": [
      "6\n"
     ]
    }
   ],
   "source": [
    "word_1 = 'matematyka'\n",
    "word_2 = 'informatyka'\n",
    "print(longest_common_subsequence(word_1, word_2))"
   ]
  },
  {
   "attachments": {},
   "cell_type": "markdown",
   "metadata": {},
   "source": [
    "## Zadanie 5. Podział \"romeo-i-julia-700.txt\" na tokeny"
   ]
  },
  {
   "cell_type": "code",
   "execution_count": 12,
   "metadata": {},
   "outputs": [],
   "source": [
    "from spacy.tokenizer import Tokenizer\n",
    "from spacy.lang.pl import Polish\n",
    "\n",
    "def create_tokens():\n",
    "    language = Polish()\n",
    "    tokenizer = Tokenizer(language.vocab)\n",
    "    \n",
    "    with open(\"romeo-i-julia-700.txt\", 'r', encoding='utf-8') as file:\n",
    "        text = file.read()\n",
    "    \n",
    "    token = tokenizer(text)\n",
    "    \n",
    "    return token"
   ]
  },
  {
   "attachments": {},
   "cell_type": "markdown",
   "metadata": {},
   "source": [
    "## Zadanie 6. Stworzenie 2 wersji załączonego tekstu, w których usunięto 3% losowych tokenów"
   ]
  },
  {
   "cell_type": "code",
   "execution_count": 16,
   "metadata": {},
   "outputs": [],
   "source": [
    "import random\n",
    "\n",
    "def delete_lines(tokens, percent=3):\n",
    "    result = []\n",
    "    for token in tokens:\n",
    "        if random.random() > percent/100:\n",
    "            result.append(token)\n",
    "    \n",
    "    return result\n",
    "\n",
    "def create_files(tokens):\n",
    "    tokens1 = delete_lines(tokens)\n",
    "    tokens2 = delete_lines(tokens)\n",
    "\n",
    "    with open('text1.txt', 'w', encoding='utf-8') as file1:\n",
    "        for token in tokens1:\n",
    "            file1.write(token.text_with_ws)\n",
    "\n",
    "    with open('text2.txt', 'w', encoding='utf-8') as file2:\n",
    "        for token in tokens2:\n",
    "            file2.write(token.text_with_ws)\n",
    "\n",
    "    return tokens1, tokens2\n"
   ]
  },
  {
   "cell_type": "code",
   "execution_count": 19,
   "metadata": {},
   "outputs": [],
   "source": [
    "tokens = create_tokens()\n",
    "tokens1, tokens2 = create_files(tokens)"
   ]
  },
  {
   "attachments": {},
   "cell_type": "markdown",
   "metadata": {},
   "source": [
    "## Zadanie 7. Długość najdłuższego podciągu wspólnych tokenów stworzonych tekstów"
   ]
  },
  {
   "cell_type": "code",
   "execution_count": 20,
   "metadata": {},
   "outputs": [
    {
     "name": "stdout",
     "output_type": "stream",
     "text": [
      "The longest common tokens subsequence: 94 \n",
      "\n"
     ]
    }
   ],
   "source": [
    "print(f\"The longest common tokens subsequence: {longest_common_subsequence(tokens1, tokens2)} \\n\")"
   ]
  },
  {
   "attachments": {},
   "cell_type": "markdown",
   "metadata": {},
   "source": [
    "## Zadanie 8. git --diff"
   ]
  },
  {
   "cell_type": "code",
   "execution_count": 39,
   "metadata": {},
   "outputs": [],
   "source": [
    "def modified_levenshtein(word_1, word_2):\n",
    "    m = len(word_1)\n",
    "    n = len(word_2)\n",
    "\n",
    "    result_matrix = [[0 for j in range(n+1)] for i in range(m+1)]\n",
    "\n",
    "    for i in range(0, m + 1):\n",
    "        result_matrix[i][0] = i\n",
    "    for j in range(0, n + 1):\n",
    "        result_matrix[0][j] = j\n",
    "\n",
    "    for i in range(1, m + 1):\n",
    "        for j in range(1, n + 1):\n",
    "            if word_1[i - 1] == word_2[j - 1]:\n",
    "                result_matrix[i][j] = result_matrix[i - 1][j - 1]\n",
    "            else:\n",
    "                result_matrix[i][j] = min(result_matrix[i - 1][j] + 1, \n",
    "                                          result_matrix[i][j - 1] + 1, \n",
    "                                          result_matrix[i - 1][j - 1] + 2)\n",
    "\n",
    "    return result_matrix\n",
    "\n",
    "\n",
    "\n",
    "def sth_like_diff(file_1, file_2):\n",
    "    with open(file_1, 'r', encoding=\"utf8\") as file:\n",
    "        text1 = file.read()\n",
    "    \n",
    "    with open(file_2, 'r', encoding=\"utf8\") as file:\n",
    "        text2 = file.read()\n",
    "\n",
    "    text1 = text1.split('\\n')\n",
    "    text2 = text2.split('\\n')\n",
    "\n",
    "    matrix = modified_levenshtein(text1, text2)\n",
    "    path, pos = get_edit_operations(text1, text2, matrix)\n",
    "\n",
    "    x = 0\n",
    "        \n",
    "    for j in range(len(path)):\n",
    "        op = path[j]\n",
    "        i = pos[j]\n",
    "        if op == 'Added':\n",
    "            print(\"+ ({})  \".format(i + 1) + text1[i])\n",
    "            x -= 1\n",
    "        elif op == 'Removed':\n",
    "            print(\"- ({})  \".format(i + x + 1) + text2[i + x])\n",
    "            x += 1"
   ]
  },
  {
   "attachments": {},
   "cell_type": "markdown",
   "metadata": {},
   "source": [
    "## Zadanie 9. Porównanie tekstów za pomocą git --diff"
   ]
  },
  {
   "cell_type": "code",
   "execution_count": 40,
   "metadata": {},
   "outputs": [
    {
     "name": "stdout",
     "output_type": "stream",
     "text": [
      "+ (12)   * PARYS — młody Weroneńczyk szlachetnego rodu, krewny księcia\n",
      "- (12)   * PARYS młody Weroneńczyk szlachetnego rodu, krewny księcia\n",
      "+ (14)   * — stryjeczny brat Kapuleta\n",
      "- (14)   * STARZEC — stryjeczny brat Kapuleta\n",
      "+ (17)   BENWOLIO — synowiec Montekiego\n",
      "- (17)   * BENWOLIO — synowiec Montekiego\n",
      "+ (20)   * JAN — brat z tegoż zgromadzenia\n",
      "- (20)   * JAN — brat z tegoż \n",
      "+ (26)   * PAŹ PARYSA\n",
      "- (26)   * PAŹ \n",
      "+ (31)   * JULIA — córka Kapuletów\n",
      "- (31)   * — córka Kapuletów\n",
      "+ (33)   * Obywatele weroneńscy, różne osoby płci obojej, liczący się przyjaciół obu domów, maski, straż wojskowa i inne osoby.\n",
      "- (33)   * Obywatele weroneńscy, różne osoby płci obojej, liczący się do przyjaciół obu domów, maski, straż wojskowa i inne osoby.\n",
      "+ (38)  Rzecz odbywa się przez większą część sztuki w Weronie, przez część piątego aktu w Mantui.\n",
      "- (38)  Rzecz się przez większą część sztuki w Weronie, przez część piątego aktu w Mantui.\n",
      "+ (47)  Tam, gdzie się rzecz ta rozgrywa, w Weronie,\n",
      "- (47)  Tam, się rzecz rozgrywa, w Weronie,\n",
      "+ (51)  Z łon tych dwu wzięło bowiem życie,\n",
      "- (51)  Z łon tych dwu wrogów wzięło bowiem życie,\n",
      "+ (61)  Które otoczcie względy,\n",
      "- (61)  Które otoczcie cierpliwymi względy,\n",
      "+ (86)  SAMSON\n",
      "- (86)  SAMSONAle będziemy darli jak z nami zadrą.\n",
      "- (88)  \n",
      "- (90)  \n",
      "+ (111)  GRZEGORZ\n",
      "- (113)  \n",
      "+ (116)  SAMSON\n",
      "- (118)  \n",
      "+ (119)  \n",
      "- (121)  To właśnie pokazuje twoją słabą stronę; mur dla nikogo niestraszny tylko słabi go się trzymają.\n",
      "+ (121)  GRZEGORZTo właśnie pokazuje twoją słabą stronę; mur dla nikogo niestraszny i tylko słabi się trzymają.\n",
      "+ (123)  \n",
      "+ (126)  Prawda, dlatego to kobiety, jako najsłabsze, tulą się zawsze do muru. Ja też odtrącę od muru ludzi Montekich, a kobiety Montekich przyprę do muru.\n",
      "- (126)  Prawda, dlatego to kobiety, jako najsłabsze, tulą się do muru. Ja też odtrącę od muru ludzi Montekich, a kobiety Montekich przyprę do muru.\n",
      "+ (136)  Mniejsza mi o to, będę nieubłagany. Pobiwszy ludzi, wściekłość na kobietach: rzeź między nimi sprawię.\n",
      "- (136)  Mniejsza mi o to, będę nieubłagany. Pobiwszy ludzi, wywrę wściekłość na kobietach: rzeź między nimi sprawię.\n",
      "- (139)  \n",
      "- (141)  Rzeź kobiet chcesz przedsiębrać?\n",
      "+ (141)  Rzeź kobiet chcesz \n",
      "- (144)  \n",
      "- (146)  Nie inaczej: wtłoczę miecz w każdą po kolei. Wiadomo, że się do lwów liczę.\n",
      "+ (146)  Nie inaczej: wtłoczę miecz w każdą kolei. Wiadomo, że się do lwów liczę.\n",
      "+ (147)  \n",
      "+ (148)  \n",
      "+ (151)  Tym lepiej, że się liczysz do zwierząt; bo gdybyś się liczył do ryb, to byłbyś pewnie sztokfiszem. Weź no się za instrument, bo oto nadchodzi dwóch domowników Montekiego.\n",
      "- (151)  Tym lepiej, że się liczysz do zwierząt; bo gdybyś się liczył do ryb, to pewnie sztokfiszem. Weź no się instrument, bo oto nadchodzi dwóch domowników Montekiego.\n",
      "+ (158)  Mój giwer już dobyty: zaczep ich, ja stanę z tyłu.\n",
      "- (158)  Mój giwer już dobyty: zaczep ich, ja stanę z \n",
      "+ (168)  Nie bój się.\n",
      "- (168)  bój się.\n",
      "+ (173)  Ja się miał bać z twojej przyczyny!\n",
      "- (173)  Ja bym się miał bać z twojej przyczyny!\n",
      "+ (178)  Miejmy prawo za sobą, niech oni zaczną.\n",
      "- (178)  prawo za sobą, niech oni zaczną.\n",
      "+ (183)  Marsa im nastawię przechodząc; niech sobie, jak chcą, tłumaczą.\n",
      "- (183)  Marsa im nastawię przechodząc; niech go sobie, jak chcą, tłumaczą.\n",
      "+ (203)  Czy na nas się skrzywiłeś, mości panie?\n",
      "- (203)  Czy na nas się skrzywiłeś, mości \n",
      "+ (210)  Będziemy–ż mieli za sobą, jak powiem: tak jest?\n",
      "- (210)  Będziemy–ż mieli prawo za sobą, jak powiem: tak jest?\n",
      "+ (220)  Nie, mości panie; nie skrzywiłem się na was, tylko skrzywiłem się tak sobie.\n",
      "- (220)  Nie, mości panie; nie skrzywiłem się na was, tylko się tak sobie.\n",
      "+ (225)  / do Abrahama \n",
      "- (225)  / do Abrahama /\n",
      "+ (237)  Jeżeli to jestem na waścine usługi. Mój pan tak dobry jak i wasz.\n",
      "- (237)  Jeżeli jej szukasz, to jestem waścine usługi. Mój pan tak dobry jak i wasz.\n",
      "+ (249)  / Benwolio ukazuje się w głębi. /GRZEGORZ\n",
      "- (249)  / Benwolio ukazuje się w głębi. /\n",
      "+ (251)  / na stronie do Samsona /\n",
      "+ (252)  \n",
      "+ (253)  Powiedz: lepszy. Oto nadchodzi jeden z krewnych mego pana.\n",
      "+ (286)  Albo wraz ze mną rozdziel nim tych ludzi.\n",
      "- (283)  TYBALT\n",
      "- (285)  Cóż to? krzyżujesz oręż z parobkami?\n",
      "- (286)  Do mnie, Benwolio! pilnuj swego życia.\n",
      "+ (290)  \n",
      "+ (291)  Z gołym orężem Nienawidzę\n",
      "+ (292)  Tego wyrazu, tak jak nienawidzę\n",
      "+ (293)  Szatana, wszystkich Montekich i ciebie.\n",
      "+ (294)  Broń się, nikczemny tchórzu.\n",
      "+ (297)  \n",
      "+ (298)  \n",
      "- (291)  Przywracam tylko pokój. Włóż nazad\n",
      "- (292)  Albo wraz ze mną rozdziel nim ludzi.\n",
      "- (293)  \n",
      "+ (301)  Hola! berdyszów! pałek! Dalej po \n",
      "- (296)  \n",
      "+ (306)  \n",
      "- (301)  / Walczą. Nadchodzi kilku przyjaciół obu partii i się do zwady; wkrótce potem wchodzą mieszczanie z pałkami. /\n",
      "+ (309)  Co za hałas? Podajcie mi długi\n",
      "- (304)  PIERWSZY OBYWATEL\n",
      "+ (315)  Raczej kulę; co ci z miecza?\n",
      "- (310)  \n",
      "+ (333)  \n",
      "- (328)  / Wchodzą Monteki i Pani Monteki. /\n",
      "- (330)  \n",
      "- (331)  MONTEKI\n",
      "+ (347)  Co wściekłych swoich gniewów żar gasicie\n",
      "- (344)  \n",
      "+ (350)  Z dłoni skrwawionych tę broń buntowniczą\n",
      "- (347)  Zapamiętali niesforni poddani,\n",
      "+ (352)  Wasz rozjątrzony książę postanawia.\n",
      "+ (353)  Domowe starcia, z marnych słów zrodzone\n",
      "+ (354)  Przez was, Monteki oraz Kapulecie,\n",
      "- (349)  Czy nie słyszycie? Ludzie czy zwierzęta,\n",
      "- (350)  Co wściekłych swoich żar gasicie\n",
      "- (351)  W własnych żył swoich źródle purpurowym;\n",
      "+ (358)  Porzucić swoje wygodne przybory\n",
      "+ (359)  I w stare dłonie stare ująć miecze,\n",
      "- (355)  Wasz rozjątrzony książę postanawia.\n",
      "- (356)  Domowe starcia, z marnych słów zrodzone\n",
      "- (357)  Przez was, Monteki oraz Kapulecie,\n",
      "+ (361)  Niechęci wasze przecinać. Jeżeli\n",
      "- (359)  Tak że poważni wiekiem i zasługąObywatele werońscy musieli\n",
      "+ (371)  \n",
      "- (369)  Na ratusz, gdzie ci dokładnie w tym względzie\n",
      "+ (374)  \n",
      "- (372)  Pod karą śmierci, aby się rozeszli.\n",
      "+ (388)  Jął się wywijać nim i siec powietrze,\n",
      "+ (389)  Które świszczało tylko szydząc z marnych\n",
      "- (386)  I wasi już się bili, kiedym nadszedł;\n",
      "- (387)  Dobyłem broni, aby ich rozdzielić:\n",
      "+ (392)  Większy tłum ludzi; z obu stron walczono,\n",
      "+ (393)  Aż książę nadszedł i rozdzielił wszystkich.\n",
      "+ (394)  \n",
      "+ (395)  \n",
      "- (390)  Jął się wywijać nim i siec powietrze,\n",
      "- (391)  Które świszczało tylko szydząc z marnych\n",
      "- (392)  Jego zamachów. Gdyśmy tak ze sobą\n",
      "- (393)  Cięcia i pchnięcia zamieniali, zbiegł się\n",
      "+ (407)  W sykomorowy ów gaj, co się ciągnie\n",
      "- (405)  \n",
      "+ (410)  Ledwiem go ujrzał, pobiegłem ku \n",
      "+ (411)  Lecz on, mię, skrył się natychmiast\n",
      "+ (412)  I najciemniejszej ukrył się gęstwinie.\n",
      "+ (413)  Pociąg ten jego do odosobnieniaMierząc mym własnym (serce nasze bowiem\n",
      "+ (414)  Jest najczynniejsze, kiedyśmy samotni),\n",
      "+ (415)  Nie przeszkadzałem mu w jego dumaniachI w inną stronę się udałem, chętnie\n",
      "+ (416)  Stroniąc od tego, co rad mnie unikał.\n",
      "- (408)  Troski wygnały mię z dala od domu\n",
      "- (409)  W sykomorowy ów gaj, co się ciągnie\n",
      "- (410)  Ku południowi od miasta.\n",
      "- (411)  Tam, już tak rano, syn wasz przechadzał.\n",
      "- (412)  Ledwiem go ujrzał, pobiegłem ku niemu;\n",
      "- (413)  Lecz on, spostrzegłszy mię, skrył się natychmiast\n",
      "+ (418)  \n",
      "+ (419)  MONTEKI\n",
      "- (415)  Pociąg ten jego do odosobnienia\n",
      "+ (427)  On, uciekając od widoku światła,\n",
      "- (423)  MONTEKI\n",
      "+ (432)  Jeśli na to lekarstwo nie znajdzie.\n",
      "- (428)  Aliści ledwo na najdalszym wschodzie\n",
      "+ (436)  \n",
      "- (432)  Co tchu zamykał w swoim pokoju;\n",
      "+ (441)  \n",
      "- (437)  \n",
      "+ (446)  \n",
      "- (442)  \n",
      "- (444)  MONTEKI\n",
      "- (445)  \n",
      "- (446)  Nie znam i z niego nie mogę.BENWOLIO\n",
      "+ (453)  Lecz on jedyny powiernik swych smutków.\n",
      "+ (454)  Tak im jest wierny, tak zamknięty w sobie,\n",
      "+ (455)  Od otwartości wszelkiej tak daleki\n",
      "- (452)  \n",
      "- (453)  Wybadywałem i sam, i przez \n",
      "- (454)  Lecz jedyny powiernik swych smutków.\n",
      "+ (459)  Gdybyśmy mogli dojść tych trosk zarodka,\n",
      "- (458)  Nim światu wonny swój kielich roztoczył\n",
      "+ (498)  Tak spiesznie w tamtą zboczyli ulicę?\n",
      "- (497)                          Jak nudnie\n",
      "- (498)  Wloką się chwile. Moi–ż to rodziceTak spiesznie w tamtą zboczyli ulicę?\n",
      "+ (501)  BENWOLIO\n",
      "- (501)  jest. Lecz cóż tak twoje dłuży?\n",
      "- (503)  \n",
      "- (506)  Nieposiadanie tego, co je skraca.\n",
      "+ (509)  \n",
      "- (512)  \n",
      "+ (521)  BENWOLIO\n",
      "- (523)  \n",
      "+ (544)  O! wy sprzeczności niepojęte dziwa!\n",
      "- (546)  Szpetny chaosie wdzięków! Ciężki puchu!\n",
      "+ (550)  Śnie bez snu! Taką to w sobie zawiłość,\n",
      "- (552)  \n",
      "+ (555)  BENWOLIO\n",
      "- (557)  \n",
      "+ (557)                          Nie, płakałbym raczej.ROMEO\n",
      "+ (558)  \n",
      "+ (559)  Nad czym, poczciwa duszo?\n",
      "+ (571)  Miłości nawet przez odbitkę działa?\n",
      "- (570)  \n",
      "+ (573)  Brzemię powiększasz przewyżką twojego;\n",
      "- (572)  Miłości nawet przez odbitkę działa?\n",
      "+ (577)  To dym, co z parą westchnień się unosi;\n",
      "- (576)  Nie ulgą, ale nowym jest kamieniem\n",
      "+ (580)  Czymże jest więcej? Istnym amalgamem,\n",
      "+ (581)  Żółcią i zbawczym balsamem.\n",
      "- (579)  To żar, co w oku szczęśliwego płonie;\n",
      "- (580)  Morze łez, którym nieszczęśliwy tonie.\n",
      "+ (585)  \n",
      "- (584)  \n",
      "+ (588)  mą przyjaźń z kwitkiem tak zostawił.\n",
      "- (587)  \n",
      "- (588)  BENWOLIO\n",
      "+ (590)  \n",
      "+ (591)  ROMEO\n",
      "+ (593)  Ach! ja nie jestem tu, nie jestem sobą;\n",
      "+ (608)  BENWOLIO\n",
      "- (605)  ROMEO\n",
      "+ (620)  A więc, kobietę kocham.\n",
      "+ (621)  \n",
      "- (617)  \n",
      "- (618)  ROMEO\n",
      "+ (623)  BENWOLIO\n",
      "- (620)                          Każ choremu\n",
      "- (622)  Dobre dla tego, kto jest w tak złym stanie?\n",
      "- (623)  A więc, kobietę kocham.BENWOLIO\n",
      "- (624)  \n",
      "+ (637)                          W piękny cel trafić najłatwiej.\n",
      "- (637)                          W piękny cel najłatwiej.\n",
      "+ (642)  A właśnieś chybił. Niczym tu kołczany\n",
      "- (642)  A właśnieś chybił. Niczym tu \n",
      "+ (648)  Nawet jej złota wszechwładztwo nie zjedna.\n",
      "- (648)  Nawet jej złota wszechwładztwo nie zjedna.Bogata w wdzięki, w tym jedynie biedna,\n",
      "- (649)  Że kiedy umrze, do grobu z nią zstąpi\n",
      "+ (660)  \n",
      "+ (661)  Tak jest; i skąpstwo to jest marnotrawstwem,\n",
      "- (661)  Bo piękność, którą własna srogość \n",
      "- (662)  Całą potomność piękności pozbawia.\n",
      "+ (665)  Zbyt mądrze piękna: stąd istnym jest głazem.\n",
      "+ (666)  Przysięgła nigdy nie kochać i \n",
      "- (666)  Temu skazanym - męki.\n",
      "- (667)  \n",
      "+ (668)  \n",
      "+ (669)  Jest na to rada: przestań myśleć o niej.\n",
      "+ (670)  \n",
      "+ (683)  \n",
      "- (681)  \n"
     ]
    }
   ],
   "source": [
    "sth_like_diff('text1.txt', 'text2.txt')"
   ]
  }
 ],
 "metadata": {
  "kernelspec": {
   "display_name": "Python 3",
   "language": "python",
   "name": "python3"
  },
  "language_info": {
   "codemirror_mode": {
    "name": "ipython",
    "version": 3
   },
   "file_extension": ".py",
   "mimetype": "text/x-python",
   "name": "python",
   "nbconvert_exporter": "python",
   "pygments_lexer": "ipython3",
   "version": "3.9.2"
  },
  "orig_nbformat": 4
 },
 "nbformat": 4,
 "nbformat_minor": 2
}
