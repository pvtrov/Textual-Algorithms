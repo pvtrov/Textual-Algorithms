{
 "cells": [
  {
   "cell_type": "markdown",
   "metadata": {},
   "source": [
    "# Aga Patro - lab 3"
   ]
  },
  {
   "attachments": {},
   "cell_type": "markdown",
   "metadata": {},
   "source": [
    "## Zadanie 1. Implementacja algorytmu obliczania odległości edycyjnej"
   ]
  },
  {
   "cell_type": "code",
   "execution_count": 1,
   "metadata": {},
   "outputs": [],
   "source": [
    "def levenshtein_distance(word_1, word_2):\n",
    "    m = len(word_1)\n",
    "    n = len(word_2)\n",
    "    result_matrix = [[0 for j in range(n+1)] for i in range(m+1)]\n",
    "\n",
    "    for i in range(0, m + 1):\n",
    "        result_matrix[i][0] = i\n",
    "    for j in range(0, n + 1):\n",
    "        result_matrix[0][j] = j\n",
    "\n",
    "    for i in range(1, m + 1):\n",
    "        for j in range(1, n + 1):\n",
    "            if word_1[i - 1] == word_2[j - 1]:\n",
    "                result_matrix[i][j] = result_matrix[i - 1][j - 1]\n",
    "            else:\n",
    "                result_matrix[i][j] = min(result_matrix[i - 1][j], \n",
    "                                          result_matrix[i][j - 1], \n",
    "                                          result_matrix[i - 1][j - 1]) + 1\n",
    "\n",
    "    return result_matrix"
   ]
  },
  {
   "cell_type": "code",
   "execution_count": 2,
   "metadata": {},
   "outputs": [
    {
     "name": "stdout",
     "output_type": "stream",
     "text": [
      "5\n"
     ]
    }
   ],
   "source": [
    "word_1 = 'matematyka'\n",
    "word_2 = 'informatyka'\n",
    "print(levenshtein_distance(word_1, word_2)[-1][-1])"
   ]
  },
  {
   "attachments": {},
   "cell_type": "markdown",
   "metadata": {},
   "source": [
    "## Zadanie 2. Wizualizacja działania algorytmu Levenshteina"
   ]
  },
  {
   "cell_type": "code",
   "execution_count": 3,
   "metadata": {},
   "outputs": [],
   "source": [
    "def get_edit_operations(word_1, word_2, edit_matrix):\n",
    "    operations = []\n",
    "    position = []\n",
    "    n = len(word_1)\n",
    "    m = len(word_2)\n",
    "\n",
    "    while n > 0 or m > 0:\n",
    "        if edit_matrix[n - 1][m] + 1 == edit_matrix[n][m]:\n",
    "            operations.append(\"Removed\")\n",
    "            n -= 1\n",
    "        elif edit_matrix[n][m - 1] + 1 == edit_matrix[n][m]:\n",
    "            operations.append(\"Added\")\n",
    "            m -= 1\n",
    "        elif edit_matrix[n - 1][m - 1] == edit_matrix[n][m]:\n",
    "            operations.append(\"No changes\")\n",
    "            n -= 1\n",
    "            m -= 1\n",
    "        else:\n",
    "            operations.append(\"Replaced\")\n",
    "            n -= 1\n",
    "            m -= 1\n",
    "\n",
    "        position.append(m)\n",
    "    \n",
    "    position.reverse()\n",
    "    operations.reverse()\n",
    "    \n",
    "    return operations, position\n"
   ]
  },
  {
   "cell_type": "code",
   "execution_count": 4,
   "metadata": {},
   "outputs": [],
   "source": [
    "def visualization(word_1, word_2, operations, edit_nb):\n",
    "    i = 0\n",
    "    j = 0\n",
    "    print(f\"To get word {word_2} from word {word_1} you need to do {edit_nb} operations: \\n\")\n",
    "\n",
    "    for operation in operations:\n",
    "        if operation == 'Added':\n",
    "            print(f\"Add {word_2[j]}: {word_1[:j]}[{word_2[j]}]{word_1[j:]}\\n\")\n",
    "            word_1 = word_1[:j] + word_2[j] + word_1[j:]\n",
    "        elif operation == 'Removed':\n",
    "            print(f\"Remove {word_1[i]}: {word_1[:i]}[{word_1[i]}]{word_1[i + 1:]}\\n\")\n",
    "            word_1 = word_1[:i] + word_1[i + 1:]\n",
    "            continue\n",
    "        elif operation == 'Replaced':\n",
    "            print(f\"Replace {word_1[i]} with {word_2[j]}: {word_1[:i]}[{word_1[i]} -> {word_2[j]}]{word_1[i + 1:]} \\n\")\n",
    "            word_1 = word_1[:j] + word_2[j] + word_1[j + 1:]\n",
    "        i += 1\n",
    "        j += 1\n",
    "    \n",
    "    if word_1 == word_2:\n",
    "        print(f\"Success! Now first word is: {word_1}, which is the same as second word: {word_2}! \\n\")\n",
    "    else:\n",
    "        print(f\"Ups, something went wrong :( \\n\")\n"
   ]
  },
  {
   "attachments": {},
   "cell_type": "markdown",
   "metadata": {},
   "source": [
    "## Zadanie 3. Testy działania algorytmu"
   ]
  },
  {
   "cell_type": "code",
   "execution_count": 5,
   "metadata": {},
   "outputs": [],
   "source": [
    "def test_levenshtein(word_1, word_2):\n",
    "    edit_matrix = levenshtein_distance(word_1, word_2)\n",
    "    operations, _ = get_edit_operations(word_1, word_2, edit_matrix)\n",
    "    visualization(word_1, word_2, operations, edit_matrix[-1][-1])"
   ]
  },
  {
   "attachments": {},
   "cell_type": "markdown",
   "metadata": {},
   "source": [
    "### 3.1 los - kloc"
   ]
  },
  {
   "cell_type": "code",
   "execution_count": 6,
   "metadata": {},
   "outputs": [
    {
     "name": "stdout",
     "output_type": "stream",
     "text": [
      "To get word kloc from word los you need to do 2 operations: \n",
      "\n",
      "Add k: [k]los\n",
      "\n",
      "Replace s with c: klo[s -> c] \n",
      "\n",
      "Success! Now first word is: kloc, which is the same as second word: kloc! \n",
      "\n"
     ]
    }
   ],
   "source": [
    "test_levenshtein('los', 'kloc')"
   ]
  },
  {
   "attachments": {},
   "cell_type": "markdown",
   "metadata": {},
   "source": [
    "### 3.2 Łódź - Lodz"
   ]
  },
  {
   "cell_type": "code",
   "execution_count": 7,
   "metadata": {},
   "outputs": [
    {
     "name": "stdout",
     "output_type": "stream",
     "text": [
      "To get word Lodz from word Łódź you need to do 3 operations: \n",
      "\n",
      "Replace Ł with L: [Ł -> L]ódź \n",
      "\n",
      "Replace ó with o: L[ó -> o]dź \n",
      "\n",
      "Replace ź with z: Lod[ź -> z] \n",
      "\n",
      "Success! Now first word is: Lodz, which is the same as second word: Lodz! \n",
      "\n"
     ]
    }
   ],
   "source": [
    "test_levenshtein('Łódź', 'Lodz')"
   ]
  },
  {
   "attachments": {},
   "cell_type": "markdown",
   "metadata": {},
   "source": [
    "### 3.3 kwintesencja - quintessence"
   ]
  },
  {
   "cell_type": "code",
   "execution_count": 8,
   "metadata": {},
   "outputs": [
    {
     "name": "stdout",
     "output_type": "stream",
     "text": [
      "To get word quintessence from word kwintesencja you need to do 5 operations: \n",
      "\n",
      "Replace k with q: [k -> q]wintesencja \n",
      "\n",
      "Replace w with u: q[w -> u]intesencja \n",
      "\n",
      "Add s: quintes[s]encja\n",
      "\n",
      "Replace j with e: quintessenc[j -> e]a \n",
      "\n",
      "Remove a: quintessence[a]\n",
      "\n",
      "Success! Now first word is: quintessence, which is the same as second word: quintessence! \n",
      "\n"
     ]
    }
   ],
   "source": [
    "test_levenshtein('kwintesencja', 'quintessence')"
   ]
  },
  {
   "attachments": {},
   "cell_type": "markdown",
   "metadata": {},
   "source": [
    "### 3.4 ATGAATCTTACCGCCTCG - ATGAGGCTCTGGCCCCTG"
   ]
  },
  {
   "cell_type": "code",
   "execution_count": 9,
   "metadata": {},
   "outputs": [
    {
     "name": "stdout",
     "output_type": "stream",
     "text": [
      "To get word ATGAGGCTCTGGCCCCTG from word ATGAATCTTACCGCCTCG you need to do 7 operations: \n",
      "\n",
      "Replace A with G: ATGA[A -> G]TCTTACCGCCTCG \n",
      "\n",
      "Replace T with G: ATGAG[T -> G]CTTACCGCCTCG \n",
      "\n",
      "Add C: ATGAGGCT[C]TACCGCCTCG\n",
      "\n",
      "Replace A with G: ATGAGGCTCT[A -> G]CCGCCTCG \n",
      "\n",
      "Add G: ATGAGGCTCTG[G]CCGCCTCG\n",
      "\n",
      "Remove G: ATGAGGCTCTGGCC[G]CCTCG\n",
      "\n",
      "Remove C: ATGAGGCTCTGGCCCCT[C]G\n",
      "\n",
      "Success! Now first word is: ATGAGGCTCTGGCCCCTG, which is the same as second word: ATGAGGCTCTGGCCCCTG! \n",
      "\n"
     ]
    }
   ],
   "source": [
    "test_levenshtein('ATGAATCTTACCGCCTCG', 'ATGAGGCTCTGGCCCCTG')"
   ]
  },
  {
   "attachments": {},
   "cell_type": "markdown",
   "metadata": {},
   "source": [
    "## Zadanie 4. Implementacja algorytmu znajdującego najdłuższe wspólne podsłowo"
   ]
  },
  {
   "cell_type": "code",
   "execution_count": 10,
   "metadata": {},
   "outputs": [],
   "source": [
    "def longest_common_subsequence(word_1, word_2):\n",
    "    m = len(word_1)\n",
    "    n = len(word_2)\n",
    "    matrix = [[0 for j in range(n+1)] for i in range(m+1)]\n",
    "    max_length = 0\n",
    "\n",
    "    for i in range(1, m):\n",
    "        for j in range(1, n):\n",
    "            if word_1[i] == word_2[j]:\n",
    "                matrix[i][j] = matrix[i-1][j-1] + 1\n",
    "                max_length = max(max_length, matrix[i][j])\n",
    "            else:\n",
    "                matrix[i][j] = 0\n",
    "\n",
    "    return max_length"
   ]
  },
  {
   "cell_type": "code",
   "execution_count": 11,
   "metadata": {},
   "outputs": [
    {
     "name": "stdout",
     "output_type": "stream",
     "text": [
      "6\n"
     ]
    }
   ],
   "source": [
    "word_1 = 'matematyka'\n",
    "word_2 = 'informatyka'\n",
    "print(longest_common_subsequence(word_1, word_2))"
   ]
  },
  {
   "attachments": {},
   "cell_type": "markdown",
   "metadata": {},
   "source": [
    "## Zadanie 5. Podział \"romeo-i-julia-700.txt\" na tokeny"
   ]
  },
  {
   "cell_type": "code",
   "execution_count": 12,
   "metadata": {},
   "outputs": [],
   "source": [
    "from spacy.tokenizer import Tokenizer\n",
    "from spacy.lang.pl import Polish\n",
    "\n",
    "def create_tokens():\n",
    "    language = Polish()\n",
    "    tokenizer = Tokenizer(language.vocab)\n",
    "    \n",
    "    with open(\"romeo-i-julia-700.txt\", 'r', encoding='utf-8') as file:\n",
    "        text = file.read()\n",
    "    \n",
    "    token = tokenizer(text)\n",
    "    \n",
    "    return token"
   ]
  },
  {
   "attachments": {},
   "cell_type": "markdown",
   "metadata": {},
   "source": [
    "## Zadanie 6. Stworzenie 2 wersji załączonego tekstu, w których usunięto 3% losowych tokenów"
   ]
  },
  {
   "cell_type": "code",
   "execution_count": 16,
   "metadata": {},
   "outputs": [],
   "source": [
    "import random\n",
    "\n",
    "def delete_lines(tokens, percent=3):\n",
    "    result = []\n",
    "    for token in tokens:\n",
    "        if random.random() > percent/100:\n",
    "            result.append(token)\n",
    "    \n",
    "    return result\n",
    "\n",
    "def create_files(tokens):\n",
    "    tokens1 = delete_lines(tokens)\n",
    "    tokens2 = delete_lines(tokens)\n",
    "\n",
    "    with open('text1.txt', 'w', encoding='utf-8') as file1:\n",
    "        for token in tokens1:\n",
    "            file1.write(token.text_with_ws)\n",
    "\n",
    "    with open('text2.txt', 'w', encoding='utf-8') as file2:\n",
    "        for token in tokens2:\n",
    "            file2.write(token.text_with_ws)\n",
    "\n",
    "    return tokens1, tokens2\n"
   ]
  },
  {
   "cell_type": "code",
   "execution_count": 19,
   "metadata": {},
   "outputs": [],
   "source": [
    "tokens = create_tokens()\n",
    "tokens1, tokens2 = create_files(tokens)"
   ]
  },
  {
   "attachments": {},
   "cell_type": "markdown",
   "metadata": {},
   "source": [
    "## Zadanie 7. Długość najdłuższego podciągu wspólnych tokenów stworzonych tekstów"
   ]
  },
  {
   "cell_type": "code",
   "execution_count": 20,
   "metadata": {},
   "outputs": [
    {
     "name": "stdout",
     "output_type": "stream",
     "text": [
      "The longest common tokens subsequence: 94 \n",
      "\n"
     ]
    }
   ],
   "source": [
    "print(f\"The longest common tokens subsequence: {longest_common_subsequence(tokens1, tokens2)} \\n\")"
   ]
  },
  {
   "attachments": {},
   "cell_type": "markdown",
   "metadata": {},
   "source": [
    "## Zadanie 8. git --diff"
   ]
  },
  {
   "cell_type": "code",
   "execution_count": 21,
   "metadata": {},
   "outputs": [],
   "source": [
    "def sth_like_diff(file_1, file_2):\n",
    "    with open(file_1, 'r', encoding=\"utf8\") as file:\n",
    "        text1 = file.read()\n",
    "    \n",
    "    with open(file_2, 'r', encoding=\"utf8\") as file:\n",
    "        text2 = file.read()\n",
    "\n",
    "    text1 = text1.split('\\n')\n",
    "    text2 = text2.split('\\n')\n",
    "\n",
    "    matrix = levenshtein_distance(text1, text2)\n",
    "    path, pos = get_edit_operations(text1, text2, matrix)\n",
    "\n",
    "    x = 0\n",
    "        \n",
    "    for j in range(len(path)):\n",
    "        op = path[j]\n",
    "        i = pos[j]\n",
    "        if op == 'Added' or op == 'Replaced':\n",
    "            print(\"+ ({})  \".format(i + 1) + text1[i])\n",
    "            x -= 1\n",
    "        elif op == 'Removed':\n",
    "            print(\"- ({})  \".format(i + x + 1) + text2[i + x])\n",
    "            x += 1"
   ]
  },
  {
   "attachments": {},
   "cell_type": "markdown",
   "metadata": {},
   "source": [
    "## Zadanie 9. Porównanie tekstów za pomocą git --diff"
   ]
  },
  {
   "cell_type": "code",
   "execution_count": 24,
   "metadata": {},
   "outputs": [
    {
     "name": "stdout",
     "output_type": "stream",
     "text": [
      "+ (12)   * PARYS — młody Weroneńczyk szlachetnego rodu, krewny księcia\n",
      "+ (14)   * — stryjeczny brat Kapuleta\n",
      "+ (17)   BENWOLIO — synowiec Montekiego\n",
      "+ (20)   * JAN — brat z tegoż zgromadzenia\n",
      "+ (26)   * PAŹ PARYSA\n",
      "+ (31)   * JULIA — córka Kapuletów\n",
      "+ (33)   * Obywatele weroneńscy, różne osoby płci obojej, liczący się przyjaciół obu domów, maski, straż wojskowa i inne osoby.\n",
      "+ (38)  Rzecz odbywa się przez większą część sztuki w Weronie, przez część piątego aktu w Mantui.\n",
      "+ (47)  Tam, gdzie się rzecz ta rozgrywa, w Weronie,\n",
      "+ (51)  Z łon tych dwu wzięło bowiem życie,\n",
      "+ (61)  Które otoczcie względy,\n",
      "+ (86)  SAMSON\n",
      "- (76)  SAMSON\n",
      "- (78)  Dalipan, Grzegorzu, nie będziem darli pierza.\n",
      "+ (111)  GRZEGORZ\n",
      "+ (116)  SAMSON\n",
      "+ (119)  \n",
      "+ (121)  GRZEGORZTo właśnie pokazuje twoją słabą stronę; mur dla nikogo niestraszny i tylko słabi się trzymają.\n",
      "+ (123)  \n",
      "+ (126)  Prawda, dlatego to kobiety, jako najsłabsze, tulą się zawsze do muru. Ja też odtrącę od muru ludzi Montekich, a kobiety Montekich przyprę do muru.\n",
      "+ (136)  Mniejsza mi o to, będę nieubłagany. Pobiwszy ludzi, wściekłość na kobietach: rzeź między nimi sprawię.\n",
      "+ (139)  GRZEGORZ\n",
      "+ (141)  Rzeź kobiet chcesz \n",
      "+ (144)  SAMSON\n",
      "+ (146)  Nie inaczej: wtłoczę miecz w każdą kolei. Wiadomo, że się do lwów liczę.\n",
      "+ (151)  Tym lepiej, że się liczysz do zwierząt; bo gdybyś się liczył do ryb, to byłbyś pewnie sztokfiszem. Weź no się za instrument, bo oto nadchodzi dwóch domowników Montekiego.\n",
      "+ (158)  Mój giwer już dobyty: zaczep ich, ja stanę z tyłu.\n",
      "+ (168)  Nie bój się.\n",
      "+ (173)  Ja się miał bać z twojej przyczyny!\n",
      "+ (178)  Miejmy prawo za sobą, niech oni zaczną.\n",
      "+ (183)  Marsa im nastawię przechodząc; niech sobie, jak chcą, tłumaczą.\n",
      "+ (203)  Czy na nas się skrzywiłeś, mości panie?\n",
      "+ (210)  Będziemy–ż mieli za sobą, jak powiem: tak jest?\n",
      "+ (220)  Nie, mości panie; nie skrzywiłem się na was, tylko skrzywiłem się tak sobie.\n",
      "+ (225)  / do Abrahama \n",
      "+ (237)  Jeżeli to jestem na waścine usługi. Mój pan tak dobry jak i wasz.\n",
      "+ (249)  / Benwolio ukazuje się w głębi. /GRZEGORZ\n",
      "+ (251)  / na stronie do Samsona /\n",
      "+ (252)  \n",
      "+ (253)  Powiedz: lepszy. Oto nadchodzi jeden z krewnych mego pana.\n",
      "+ (286)  Albo wraz ze mną rozdziel nim tych ludzi.\n",
      "+ (288)  \n",
      "+ (289)  TYBALT\n",
      "+ (291)  Z gołym orężem Nienawidzę\n",
      "+ (292)  Tego wyrazu, tak jak nienawidzę\n",
      "+ (294)  Broń się, nikczemny tchórzu.\n",
      "+ (297)  \n",
      "+ (298)  \n",
      "- (255)  \n",
      "+ (301)  Hola! berdyszów! pałek! Dalej po \n",
      "+ (306)  \n",
      "+ (309)  Co za hałas? Podajcie mi długi\n",
      "+ (315)  Raczej kulę; co ci z miecza?\n",
      "+ (333)  \n",
      "- (287)  \n",
      "- (288)  \n",
      "+ (347)  Co wściekłych swoich gniewów żar gasicie\n",
      "+ (350)  Z dłoni skrwawionych tę broń buntowniczą\n",
      "+ (352)  Wasz rozjątrzony książę postanawia.\n",
      "+ (353)  Domowe starcia, z marnych słów zrodzone\n",
      "+ (354)  Przez was, Monteki oraz Kapulecie,\n",
      "+ (358)  Porzucić swoje wygodne przybory\n",
      "+ (359)  I w stare dłonie stare ująć miecze,\n",
      "- (307)  Precz z Montekimi, precz z Kapuletami!\n",
      "+ (361)  Niechęci wasze przecinać. Jeżeli\n",
      "+ (371)  \n",
      "+ (374)  \n",
      "+ (388)  Jął się wywijać nim i siec powietrze,\n",
      "+ (389)  Które świszczało tylko szydząc z marnych\n",
      "+ (392)  Większy tłum ludzi; z obu stron walczono,\n",
      "+ (393)  Aż książę nadszedł i rozdzielił wszystkich.\n",
      "+ (394)  \n",
      "+ (395)  \n",
      "+ (407)  W sykomorowy ów gaj, co się ciągnie\n",
      "+ (410)  Ledwiem go ujrzał, pobiegłem ku \n",
      "+ (411)  Lecz on, mię, skrył się natychmiast\n",
      "+ (412)  I najciemniejszej ukrył się gęstwinie.\n",
      "+ (413)  Pociąg ten jego do odosobnieniaMierząc mym własnym (serce nasze bowiem\n",
      "+ (414)  Jest najczynniejsze, kiedyśmy samotni),\n",
      "+ (415)  Nie przeszkadzałem mu w jego dumaniachI w inną stronę się udałem, chętnie\n",
      "+ (416)  Stroniąc od tego, co rad mnie unikał.\n",
      "+ (418)  \n",
      "+ (419)  MONTEKI\n",
      "+ (427)  On, uciekając od widoku światła,\n",
      "+ (432)  Jeśli na to lekarstwo nie znajdzie.\n",
      "+ (436)  \n",
      "+ (441)  \n",
      "+ (446)  \n",
      "- (372)  Pod karą śmierci, aby się rozeszli.\n",
      "- (373)  \n",
      "- (374)  / Książę z orszakiem wychodzi. Podobnież Kapulet, Pani Kapulet, Tybalt, obywatele słudzy. /\n",
      "+ (453)  Lecz on jedyny powiernik swych smutków.\n",
      "+ (454)  Tak im jest wierny, tak zamknięty w sobie,\n",
      "+ (455)  Od otwartości wszelkiej tak daleki\n",
      "+ (459)  Gdybyśmy mogli dojść tych trosk zarodka,\n",
      "+ (498)  Tak spiesznie w tamtą zboczyli ulicę?\n",
      "- (421)  \n",
      "+ (501)  BENWOLIO\n",
      "- (425)  Nieraz o świcie już go tam widziano\n",
      "- (428)  Aliści ledwo na najdalszym wschodzie\n",
      "+ (509)  \n",
      "+ (521)  BENWOLIO\n",
      "+ (544)  O! wy sprzeczności niepojęte dziwa!\n",
      "+ (550)  Śnie bez snu! Taką to w sobie zawiłość,\n",
      "+ (555)  BENWOLIO\n",
      "+ (557)                          Nie, płakałbym raczej.ROMEO\n",
      "+ (558)  \n",
      "+ (559)  Nad czym, poczciwa duszo?\n",
      "+ (571)  Miłości nawet przez odbitkę działa?\n",
      "+ (573)  Brzemię powiększasz przewyżką twojego;\n",
      "+ (577)  To dym, co z parą westchnień się unosi;\n",
      "+ (580)  Czymże jest więcej? Istnym amalgamem,\n",
      "+ (581)  Żółcią i zbawczym balsamem.\n",
      "+ (585)  \n",
      "+ (588)  mą przyjaźń z kwitkiem tak zostawił.\n",
      "+ (589)  \n",
      "+ (590)  \n",
      "+ (591)  ROMEO\n",
      "+ (608)  BENWOLIO\n",
      "+ (620)  A więc, kobietę kocham.\n",
      "+ (621)  \n",
      "+ (623)  BENWOLIO\n",
      "- (527)  \n",
      "- (528)  \n",
      "- (529)  BENWOLIO\n",
      "+ (637)                          W piękny cel trafić najłatwiej.\n",
      "+ (642)  A właśnieś chybił. Niczym tu kołczany\n",
      "+ (648)  Nawet jej złota wszechwładztwo nie zjedna.\n",
      "- (551)  \n",
      "+ (660)  \n",
      "+ (661)  Tak jest; i skąpstwo to jest marnotrawstwem,\n",
      "+ (665)  Zbyt mądrze piękna: stąd istnym jest głazem.\n",
      "+ (666)  Przysięgła nigdy nie kochać i \n",
      "+ (668)  \n",
      "+ (669)  Jest na to rada: przestań myśleć o niej.\n",
      "+ (670)  \n",
      "+ (683)  \n"
     ]
    }
   ],
   "source": [
    "sth_like_diff('text1.txt', 'text2.txt')"
   ]
  }
 ],
 "metadata": {
  "kernelspec": {
   "display_name": "Python 3",
   "language": "python",
   "name": "python3"
  },
  "language_info": {
   "codemirror_mode": {
    "name": "ipython",
    "version": 3
   },
   "file_extension": ".py",
   "mimetype": "text/x-python",
   "name": "python",
   "nbconvert_exporter": "python",
   "pygments_lexer": "ipython3",
   "version": "3.9.2"
  },
  "orig_nbformat": 4
 },
 "nbformat": 4,
 "nbformat_minor": 2
}
