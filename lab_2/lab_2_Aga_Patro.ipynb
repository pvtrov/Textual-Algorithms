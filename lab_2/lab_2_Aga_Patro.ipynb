{
 "cells": [
  {
   "cell_type": "markdown",
   "id": "9b02ed33-983a-4dc6-a18c-f98806a54d9d",
   "metadata": {},
   "source": [
    "# Aga Patro - lab 2"
   ]
  },
  {
   "attachments": {},
   "cell_type": "markdown",
   "id": "ff60de57-3f7b-447f-bc47-77470ec5705e",
   "metadata": {},
   "source": [
    "## Zadanie 1. Implementacja algorytmów "
   ]
  },
  {
   "cell_type": "markdown",
   "id": "106fbcc1-5de7-45ed-a4a9-2c8eebc0ec80",
   "metadata": {},
   "source": [
    "### 1.1 Statyczny algorytm Huffmana"
   ]
  },
  {
   "cell_type": "code",
   "execution_count": 5,
   "id": "e1dfb123-9d97-4a02-a742-5189df792461",
   "metadata": {},
   "outputs": [],
   "source": [
    "from heapq import heappop, heappush, heapify\n",
    "from bitarray import bitarray\n",
    "from bitarray.util import ba2int"
   ]
  },
  {
   "cell_type": "code",
   "execution_count": 6,
   "id": "6efad1e9",
   "metadata": {},
   "outputs": [],
   "source": [
    "class Node:\n",
    "    def __init__(self, value, letter=None, left=None, right=None):\n",
    "        self.value = value\n",
    "        self.letter = letter\n",
    "        self.left = left\n",
    "        self.right = right\n",
    "\n",
    "    def __gt__(self, other):\n",
    "        return self.value > other.value\n",
    "\n",
    "\n",
    "def count_letters(text):\n",
    "    letters = {}\n",
    "    for letter in text:\n",
    "        letters[letter] = letters.get(letter, 0) + 1\n",
    "\n",
    "    return letters\n",
    "\n",
    "\n",
    "def build_static_huffman_tree(text):\n",
    "    counted_letters = count_letters(text)\n",
    "    leafs = [Node(weight, letter) for letter, weight in counted_letters.items()]\n",
    "    while len(leafs) > 1:\n",
    "        el_1 = heappop(leafs)\n",
    "        el_2 = heappop(leafs)\n",
    "        heappush(leafs, Node(el_1.value + el_2.value, left=el_1, right=el_2))\n",
    "\n",
    "    return leafs[0]\n",
    "\n",
    "\n",
    "def create_huffman_code(node, codes, code):\n",
    "    if node.letter is not None:\n",
    "        codes[node.letter] = code\n",
    "\n",
    "    code_cpy = code.copy()\n",
    "    if node.left is not None:\n",
    "        code.append(0)\n",
    "        create_huffman_code(node.left, codes, code)\n",
    "\n",
    "    if node.right is not None:\n",
    "        code = code_cpy\n",
    "        code.append(1)\n",
    "        create_huffman_code(node.right, codes, code)\n",
    "\n",
    "    return codes\n",
    "\n",
    "\n",
    "def encode_static_huffman_tree(text, codes):\n",
    "    result = bitarray()\n",
    "    for letter in text:\n",
    "        result.extend(codes[letter])\n",
    "\n",
    "    return result\n",
    "\n",
    "\n",
    "def decode_static_huffman_tree(huffman_tree, encoded_text):\n",
    "    node = huffman_tree\n",
    "    decoded_text = ''\n",
    "    for bit in encoded_text:\n",
    "        if not bit:\n",
    "            node = node.left\n",
    "        else:\n",
    "            node = node.right\n",
    "\n",
    "        if not node.left and not node.right:\n",
    "            decoded_text += node.letter\n",
    "            node = huffman_tree\n",
    "\n",
    "    return decoded_text\n",
    "\n",
    "\n",
    "def static_huffman(text):\n",
    "    huffman_tree = build_static_huffman_tree(text)\n",
    "    codes = create_huffman_code(huffman_tree, dict(), bitarray())\n",
    "    encoded_text = encode_static_huffman_tree(text, codes)\n",
    "    decoded_text = decode_static_huffman_tree(huffman_tree, encoded_text)\n",
    "\n",
    "    return decoded_text"
   ]
  },
  {
   "cell_type": "code",
   "execution_count": 7,
   "id": "88b855c8",
   "metadata": {},
   "outputs": [
    {
     "name": "stdout",
     "output_type": "stream",
     "text": [
      "Text: Let's check if it work\n",
      "Decoded text: Let's check if it work\n"
     ]
    }
   ],
   "source": [
    "text = \"Let's check if it work\"\n",
    "decoded_text = static_huffman(text)\n",
    "print(f\"Text: {text}\\nDecoded text: {decoded_text}\")"
   ]
  },
  {
   "attachments": {},
   "cell_type": "markdown",
   "id": "95378e08",
   "metadata": {},
   "source": [
    "## Zadanie 2. Pomiary kompresji oraz dekompresji"
   ]
  },
  {
   "attachments": {},
   "cell_type": "markdown",
   "id": "102177d6",
   "metadata": {},
   "source": [
    "### 2.1 Format pliku\n",
    "Wynik kompresji zapisywany jest w postaci bitowej przy użyciu \"bitarray\", co powinno rozwiązać problem konwersji na znaki ASCII oraz niepełnych bitów na końcu pliku. Plik wynikowy jest w postaci binarnej."
   ]
  },
  {
   "attachments": {},
   "cell_type": "markdown",
   "id": "787d4a96",
   "metadata": {},
   "source": [
    "### 2.3 Pomiar wpółczynnika oraz czasu kompresji "
   ]
  },
  {
   "attachments": {},
   "cell_type": "markdown",
   "id": "3865d9e6",
   "metadata": {},
   "source": [
    "#### Pliki wejściowe. \n",
    "Do pomiarów wybrałam następujące pliki:\n",
    "* \"History of Astronomy\" z projektu Gutenberg\n",
    "* plik źródłowy \"crypto_engine.c\" jądra Linuksa\n",
    "* stworzyłam swój własny plik ze znakami losowymi\n",
    "\n",
    "Każdy z plików przerobiłam tak, by miały wymagane rozmiary"
   ]
  },
  {
   "cell_type": "code",
   "execution_count": 8,
   "id": "b3c3ee93",
   "metadata": {},
   "outputs": [],
   "source": [
    "import os\n",
    "import time\n",
    "\n",
    "\n",
    "def compression_ratio(read_file, write_file):\n",
    "    read_size = os.path.getsize(read_file)\n",
    "    print(\"Size before compression:\", read_size)\n",
    "    write_size = os.path.getsize(write_file)/8\n",
    "    print(\"Size after compression: \", write_size) \n",
    "    print(f\"Size ratio: {1 - write_size/read_size}\") \n",
    "\n",
    "\n",
    "def compression_test(filename):\n",
    "    with open(filename, \"r\") as file:\n",
    "        text = file.read()\n",
    "    \n",
    "    print(\"\\n--------------------------\")\n",
    "    print(\"Static Huffman compression\")\n",
    "    print(\"--------------------------\\n\")\n",
    "    result_filename = filename.replace('input', 'output')\n",
    "    with open(result_filename, \"wb+\") as file:\n",
    "        file.truncate()\n",
    "\n",
    "        static_tree = build_static_huffman_tree(text)\n",
    "        codes = create_huffman_code(static_tree, dict(), bitarray())\n",
    "\n",
    "        start_e = time.time()\n",
    "        encoded_text = encode_static_huffman_tree(text, codes)\n",
    "        end_e = time.time()\n",
    "\n",
    "        encoded_text.tofile(file)\n",
    "\n",
    "        start_d = time.time()\n",
    "        decoded_text = decode_static_huffman_tree(static_tree, encoded_text)\n",
    "        end_d = time.time()\n",
    "\n",
    "        file.close()\n",
    "    \n",
    "\n",
    "    compression_ratio(filename, result_filename)\n",
    "    time_e1 = end_e - start_e\n",
    "    print(\"Time encoding:\", time_e1)\n",
    "    time_d1 = end_d - start_d\n",
    "    print(\"Time decoding\", time_d1)\n",
    "    "
   ]
  },
  {
   "cell_type": "code",
   "execution_count": 9,
   "id": "4978993b",
   "metadata": {},
   "outputs": [
    {
     "name": "stdout",
     "output_type": "stream",
     "text": [
      "\n",
      "--------------------------\n",
      "Static Huffman compression\n",
      "--------------------------\n",
      "\n",
      "Size before compression: 1024\n",
      "Size after compression:  84.375\n",
      "Size ratio: 0.9176025390625\n",
      "Time encoding: 0.00010204315185546875\n",
      "Time decoding 0.0003960132598876953\n",
      "\n",
      "--------------------------\n",
      "Static Huffman compression\n",
      "--------------------------\n",
      "\n",
      "Size before compression: 10318\n",
      "Size after compression:  788.25\n",
      "Size ratio: 0.9236043806939329\n",
      "Time encoding: 0.0007097721099853516\n",
      "Time decoding 0.0036611557006835938\n",
      "\n",
      "--------------------------\n",
      "Static Huffman compression\n",
      "--------------------------\n",
      "\n",
      "Size before compression: 102942\n",
      "Size after compression:  7405.25\n",
      "Size ratio: 0.9280638612033961\n",
      "Time encoding: 0.006725311279296875\n",
      "Time decoding 0.03512692451477051\n",
      "\n",
      "--------------------------\n",
      "Static Huffman compression\n",
      "--------------------------\n",
      "\n",
      "Size before compression: 1054067\n",
      "Size after compression:  77243.875\n",
      "Size ratio: 0.9267182494091931\n",
      "Time encoding: 0.06788754463195801\n",
      "Time decoding 0.3600809574127197\n"
     ]
    }
   ],
   "source": [
    "sizes = ['1kb', '10kb', '100kb', '1mb']\n",
    "\n",
    "for size in sizes:\n",
    "    compression_test(f'lab_2/input/hoa_{size}.txt')"
   ]
  },
  {
   "cell_type": "code",
   "execution_count": 10,
   "id": "3ffb6fd0",
   "metadata": {},
   "outputs": [
    {
     "name": "stdout",
     "output_type": "stream",
     "text": [
      "\n",
      "--------------------------\n",
      "Static Huffman compression\n",
      "--------------------------\n",
      "\n",
      "Size before compression: 1024\n",
      "Size after compression:  83.0\n",
      "Size ratio: 0.9189453125\n",
      "Time encoding: 9.322166442871094e-05\n",
      "Time decoding 0.0003845691680908203\n",
      "\n",
      "--------------------------\n",
      "Static Huffman compression\n",
      "--------------------------\n",
      "\n",
      "Size before compression: 10240\n",
      "Size after compression:  803.25\n",
      "Size ratio: 0.9215576171875\n",
      "Time encoding: 0.0008006095886230469\n",
      "Time decoding 0.004292964935302734\n",
      "\n",
      "--------------------------\n",
      "Static Huffman compression\n",
      "--------------------------\n",
      "\n",
      "Size before compression: 102400\n",
      "Size after compression:  8179.375\n",
      "Size ratio: 0.920123291015625\n",
      "Time encoding: 0.00765681266784668\n",
      "Time decoding 0.03764486312866211\n",
      "\n",
      "--------------------------\n",
      "Static Huffman compression\n",
      "--------------------------\n",
      "\n",
      "Size before compression: 1048576\n",
      "Size after compression:  83278.25\n",
      "Size ratio: 0.9205796718597412\n",
      "Time encoding: 0.07568526268005371\n",
      "Time decoding 0.38315606117248535\n"
     ]
    }
   ],
   "source": [
    "sizes = ['1kb', '10kb', '100kb', '1mb']\n",
    "\n",
    "for size in sizes:\n",
    "    compression_test(f'lab_2/input/crypto_engine_{size}.c')"
   ]
  },
  {
   "cell_type": "code",
   "execution_count": 11,
   "id": "f999d4ff",
   "metadata": {},
   "outputs": [
    {
     "name": "stdout",
     "output_type": "stream",
     "text": [
      "\n",
      "--------------------------\n",
      "Static Huffman compression\n",
      "--------------------------\n",
      "\n",
      "Size before compression: 1024\n",
      "Size after compression:  106.5\n",
      "Size ratio: 0.89599609375\n",
      "Time encoding: 0.00010347366333007812\n",
      "Time decoding 0.00047397613525390625\n",
      "\n",
      "--------------------------\n",
      "Static Huffman compression\n",
      "--------------------------\n",
      "\n",
      "Size before compression: 10240\n",
      "Size after compression:  1068.125\n",
      "Size ratio: 0.89569091796875\n",
      "Time encoding: 0.0009298324584960938\n",
      "Time decoding 0.004800319671630859\n",
      "\n",
      "--------------------------\n",
      "Static Huffman compression\n",
      "--------------------------\n",
      "\n",
      "Size before compression: 102400\n",
      "Size after compression:  10704.5\n",
      "Size ratio: 0.8954638671875\n",
      "Time encoding: 0.009365558624267578\n",
      "Time decoding 0.04767870903015137\n",
      "\n",
      "--------------------------\n",
      "Static Huffman compression\n",
      "--------------------------\n",
      "\n",
      "Size before compression: 1048576\n",
      "Size after compression:  109718.625\n",
      "Size ratio: 0.8953641653060913\n",
      "Time encoding: 0.09615325927734375\n",
      "Time decoding 0.4834096431732178\n"
     ]
    }
   ],
   "source": [
    "sizes = ['1kb', '10kb', '100kb', '1mb']\n",
    "\n",
    "for size in sizes:\n",
    "    compression_test(f'lab_2/input/random_data_{size}.txt')"
   ]
  }
 ],
 "metadata": {
  "kernelspec": {
   "display_name": "Python 3 (ipykernel)",
   "language": "python",
   "name": "python3"
  },
  "language_info": {
   "codemirror_mode": {
    "name": "ipython",
    "version": 3
   },
   "file_extension": ".py",
   "mimetype": "text/x-python",
   "name": "python",
   "nbconvert_exporter": "python",
   "pygments_lexer": "ipython3",
   "version": "3.9.2"
  }
 },
 "nbformat": 4,
 "nbformat_minor": 5
}
